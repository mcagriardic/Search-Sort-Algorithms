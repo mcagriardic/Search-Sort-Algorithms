{
 "cells": [
  {
   "cell_type": "code",
   "execution_count": 1,
   "metadata": {},
   "outputs": [],
   "source": [
    "class TrieNode:\n",
    "    def __init__(self):\n",
    "        self.children = 26 * [None]\n",
    "        self.is_end = False\n",
    "        \n",
    "class Trie:\n",
    "    def __init__(self):\n",
    "        self.root = TrieNode()\n",
    "        \n",
    "    def char_to_index(self, c):\n",
    "        return ord(c) - ord('a')\n",
    "\n",
    "    def insert(self, cs):\n",
    "        # ctn -> current trie node\n",
    "        ctn = self.root\n",
    "        cs = cs.lower()\n",
    "        for i, c in enumerate(cs):\n",
    "            c_ascii_idx = self.char_to_index(c)\n",
    "            \n",
    "            if not ctn.children[c_ascii_idx]:\n",
    "                ctn.children[c_ascii_idx] = TrieNode()\n",
    "            ctn = ctn.children[c_ascii_idx]\n",
    "        ctn.is_end = True\n",
    "        \n",
    "    def __get_all_words(self, ro, word=[]):\n",
    "        words = []\n",
    "        if not ro.children:\n",
    "            return [word]\n",
    "        if ro.is_end:\n",
    "            words.append(word)\n",
    "        for i, c in enumerate(ro.children):\n",
    "            if c:\n",
    "                ew = self.__get_all_words(c, word=word + [chr(ord('a') + i)])\n",
    "                \n",
    "                for w in ew:\n",
    "                    words.append(w)\n",
    "        return words\n",
    "    \n",
    "    def get_all_words(self):\n",
    "        for ws in self.__get_all_words(self.root):\n",
    "            yield \"\".join(ws)\n",
    "            \n",
    "    def search(self, key):\n",
    "        # ctn -> current trie node\n",
    "        ctn = self.root\n",
    "        for c in key:\n",
    "            c_ascii_idx = self.char_to_index(c)\n",
    "            if not ctn.children[c_ascii_idx]:\n",
    "                return False\n",
    "            ctn = ctn.children[c_ascii_idx]\n",
    "        return True\n",
    "    \n",
    "    def __delete(self, key, ro, i=0):\n",
    "        c_ascii_idx = self.char_to_index(key[i])\n",
    "        if key[i] == key[-1]:\n",
    "            if ro.children[c_ascii_idx]:\n",
    "                ro.children[c_ascii_idx].is_end = False\n",
    "                return ro\n",
    "            return None\n",
    "        ro.children[c_ascii_idx] = self.__delete(key, ro.children[c_ascii_idx], i=i+1)\n",
    "        return ro\n",
    "\n",
    "    def delete(self, key):\n",
    "        self.__delete(key, self.root)"
   ]
  },
  {
   "cell_type": "code",
   "execution_count": 2,
   "metadata": {},
   "outputs": [
    {
     "data": {
      "text/plain": [
       "['abc', 'abcd', 'abce', 'abcef', 'abceg']"
      ]
     },
     "execution_count": 2,
     "metadata": {},
     "output_type": "execute_result"
    }
   ],
   "source": [
    "t = Trie()\n",
    "t.insert(\"abcd\")\n",
    "t.insert(\"abce\")\n",
    "t.insert(\"abc\")\n",
    "t.insert(\"abcef\")\n",
    "t.insert(\"abceg\")\n",
    "list(t.get_all_words())"
   ]
  },
  {
   "cell_type": "code",
   "execution_count": 3,
   "metadata": {},
   "outputs": [
    {
     "data": {
      "text/plain": [
       "True"
      ]
     },
     "execution_count": 3,
     "metadata": {},
     "output_type": "execute_result"
    }
   ],
   "source": [
    "t.search(\"abc\")"
   ]
  },
  {
   "cell_type": "code",
   "execution_count": 4,
   "metadata": {},
   "outputs": [
    {
     "data": {
      "text/plain": [
       "['abc', 'abcd', 'abce', 'abceg']"
      ]
     },
     "execution_count": 4,
     "metadata": {},
     "output_type": "execute_result"
    }
   ],
   "source": [
    "t.delete(\"abcef\")\n",
    "list(t.get_all_words())"
   ]
  },
  {
   "cell_type": "code",
   "execution_count": 5,
   "metadata": {},
   "outputs": [
    {
     "data": {
      "text/plain": [
       "['abcd', 'abce', 'abceg']"
      ]
     },
     "execution_count": 5,
     "metadata": {},
     "output_type": "execute_result"
    }
   ],
   "source": [
    "t.delete(\"abc\")\n",
    "list(t.get_all_words())"
   ]
  },
  {
   "cell_type": "code",
   "execution_count": null,
   "metadata": {},
   "outputs": [],
   "source": []
  },
  {
   "cell_type": "code",
   "execution_count": null,
   "metadata": {},
   "outputs": [],
   "source": []
  }
 ],
 "metadata": {
  "kernelspec": {
   "display_name": "Python 3",
   "language": "python",
   "name": "python3"
  },
  "language_info": {
   "codemirror_mode": {
    "name": "ipython",
    "version": 3
   },
   "file_extension": ".py",
   "mimetype": "text/x-python",
   "name": "python",
   "nbconvert_exporter": "python",
   "pygments_lexer": "ipython3",
   "version": "3.7.6"
  }
 },
 "nbformat": 4,
 "nbformat_minor": 4
}
