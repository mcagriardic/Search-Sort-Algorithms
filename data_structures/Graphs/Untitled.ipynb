{
 "cells": [
  {
   "cell_type": "code",
   "execution_count": 4,
   "metadata": {},
   "outputs": [],
   "source": [
    "class Vertex:\n",
    "    def __init__(self, v):\n",
    "        self.v = v\n",
    "        self.e = []\n",
    "    \n",
    "    @staticmethod\n",
    "    def return_idx_of_val(val):\n",
    "        yield from [i for i,v in enumerate(val) if v == 1]\n",
    "    \n",
    "    def register_edges(self, edges):\n",
    "        self.e.extend(\n",
    "            Vertex.return_idx_of_val(edges)\n",
    "        )\n",
    "        \n",
    "class Graph:\n",
    "    def __init__(self, am):\n",
    "        self.vertices = {}\n",
    "        self.create_graph(am)\n",
    "    \n",
    "    def create_graph(self, am):\n",
    "        self.vertices = {}\n",
    "\n",
    "        for vidx, v in enumerate(am):\n",
    "            self.vertices[vidx] = Vertex(vidx)\n",
    "            self.vertices[vidx].register_edges(v)\n",
    "            \n",
    "    def bfs(self):\n",
    "        queue = [self.vertices[0]]\n",
    "        seen = []\n",
    "\n",
    "        while queue:\n",
    "            if queue[0].v not in seen:\n",
    "                print(queue[0].v)\n",
    "                seen.append(queue[0].v)\n",
    "            popped = queue.pop(0)\n",
    "            queue.extend(\n",
    "                [self.vertices[v] for v in popped.e if v not in seen]\n",
    "            )\n",
    "            \n",
    "    def dfs(self):\n",
    "        stack = [self.vertices[0]]\n",
    "        seen = []\n",
    "        \n",
    "        while stack:\n",
    "            if stack[-1].v not in seen:\n",
    "                print(stack[-1].v)\n",
    "                seen.append(stack[-1].v)\n",
    "            popped = stack.pop()\n",
    "            stack.extend([self.vertices[v] for v in popped.e if v not in seen])\n",
    "            \n",
    "    def topological_sort_util(self, v, visited, stack):\n",
    "        visited[v.v] = True\n",
    "\n",
    "        for e in v.e: \n",
    "            if not visited[e]: \n",
    "                self.topological_sort_util(\n",
    "                    self.vertices[e],\n",
    "                    visited,\n",
    "                    stack\n",
    "                ) \n",
    "\n",
    "        stack.append(v.v)\n",
    "\n",
    "    def topological_sort(self): \n",
    "        visited = [False] * len(self.vertices) \n",
    "        stack = [] \n",
    "\n",
    "        for v in self.vertices: \n",
    "            if not visited[v]: \n",
    "                self.topological_sort_util(\n",
    "                    self.vertices[v],\n",
    "                    visited,\n",
    "                    stack\n",
    "                ) \n",
    "\n",
    "        return stack[::-1]"
   ]
  },
  {
   "cell_type": "code",
   "execution_count": 5,
   "metadata": {},
   "outputs": [],
   "source": [
    "#   1 ---- 2\n",
    "#   |     /| \\\n",
    "#   |    / |  \\\n",
    "#   |   /  |   3\n",
    "#   |  /   |  /\n",
    "#   | /    | /\n",
    "#   5 ---- 4\n",
    "#\n",
    "\n",
    "# am -> adjacency matrix\n",
    "# am = [\n",
    "#     [0,1,0,0,1],\n",
    "#     [1,0,1,1,1],\n",
    "#     [0,1,0,1,0],\n",
    "#     [0,1,1,0,1],\n",
    "#     [1,1,0,1,0]\n",
    "# ]\n",
    "\n",
    "dag = [\n",
    "    [0,0,0,0,0,0],\n",
    "    [0,0,0,0,0,0],\n",
    "    [0,0,0,1,0,0],\n",
    "    [0,1,0,0,0,0],\n",
    "    [1,1,0,0,0,0],\n",
    "    [1,0,1,0,0,0]\n",
    "]\n",
    "\n",
    "g = Graph(dag)"
   ]
  },
  {
   "cell_type": "code",
   "execution_count": 6,
   "metadata": {},
   "outputs": [
    {
     "data": {
      "text/plain": [
       "[5, 4, 2, 3, 1, 0]"
      ]
     },
     "execution_count": 6,
     "metadata": {},
     "output_type": "execute_result"
    }
   ],
   "source": [
    "g.topological_sort()"
   ]
  },
  {
   "cell_type": "code",
   "execution_count": 7,
   "metadata": {},
   "outputs": [
    {
     "name": "stdout",
     "output_type": "stream",
     "text": [
      "0\n"
     ]
    }
   ],
   "source": [
    "g.dfs()"
   ]
  },
  {
   "cell_type": "code",
   "execution_count": 8,
   "metadata": {},
   "outputs": [
    {
     "name": "stdout",
     "output_type": "stream",
     "text": [
      "0\n"
     ]
    }
   ],
   "source": [
    "g.bfs()"
   ]
  },
  {
   "cell_type": "code",
   "execution_count": null,
   "metadata": {},
   "outputs": [],
   "source": []
  }
 ],
 "metadata": {
  "kernelspec": {
   "display_name": "Python 3",
   "language": "python",
   "name": "python3"
  },
  "language_info": {
   "codemirror_mode": {
    "name": "ipython",
    "version": 3
   },
   "file_extension": ".py",
   "mimetype": "text/x-python",
   "name": "python",
   "nbconvert_exporter": "python",
   "pygments_lexer": "ipython3",
   "version": "3.7.6"
  }
 },
 "nbformat": 4,
 "nbformat_minor": 4
}
