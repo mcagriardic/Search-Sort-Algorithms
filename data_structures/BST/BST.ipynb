{
 "cells": [
  {
   "cell_type": "code",
   "execution_count": 1,
   "metadata": {},
   "outputs": [],
   "source": [
    "from bst import BST\n",
    "from tree_node import Node\n",
    "from bfp import bfp\n",
    "\n",
    "from kth_largest import find_kth_largest\n",
    "from kth_smallest import find_kth_smallest\n",
    "from paths_to_leaves import get_paths_to_leaves"
   ]
  },
  {
   "cell_type": "code",
   "execution_count": 2,
   "metadata": {},
   "outputs": [],
   "source": [
    "#                                                 40                                             \n",
    "#                                /                                  \\\n",
    "#                               20                                  60                                        \n",
    "#                 /                                             /                 \\\n",
    "#                13                                            56                  66                                     \n",
    "#           /         \\                                     /      \\            /      \\\n",
    "#         10          17                                  42       58         63       68                                 \n",
    "#      /    \\        /                                      \\         \\      /\n",
    "#     8     11      15                                      49        59    61                                           \n",
    "#             \\                                           /   \\\n",
    "#             12                                        43    51     \n",
    "\n",
    "\n",
    "ro = Node(40)\n",
    "bst = BST(ro)\n",
    "bst.insert(\n",
    "    [20,60,13,17,56,66,10,15,42,58,63,68,8,11,12,49,59,46,51,61,43,47]\n",
    ")"
   ]
  },
  {
   "cell_type": "code",
   "execution_count": 3,
   "metadata": {
    "scrolled": true
   },
   "outputs": [],
   "source": [
    "bst.delete(47)\n",
    "bst.delete(46)"
   ]
  },
  {
   "cell_type": "code",
   "execution_count": 4,
   "metadata": {},
   "outputs": [
    {
     "data": {
      "text/plain": [
       "10"
      ]
     },
     "execution_count": 4,
     "metadata": {},
     "output_type": "execute_result"
    }
   ],
   "source": [
    "find_kth_smallest(ro, 2).v"
   ]
  },
  {
   "cell_type": "code",
   "execution_count": 5,
   "metadata": {},
   "outputs": [
    {
     "name": "stdout",
     "output_type": "stream",
     "text": [
      "Found it!...\n"
     ]
    }
   ],
   "source": [
    "bst.search(10)"
   ]
  },
  {
   "cell_type": "code",
   "execution_count": 6,
   "metadata": {},
   "outputs": [
    {
     "name": "stdout",
     "output_type": "stream",
     "text": [
      "Binary search tree does not contain 46...\n"
     ]
    }
   ],
   "source": [
    "bst.search(46)"
   ]
  },
  {
   "cell_type": "code",
   "execution_count": 7,
   "metadata": {},
   "outputs": [
    {
     "data": {
      "text/plain": [
       "[[40, 20, 13, 10, 8],\n",
       " [40, 20, 13, 10, 11, 12],\n",
       " [40, 20, 13, 17, 15],\n",
       " [40, 60, 56, 42, 49, 43],\n",
       " [40, 60, 56, 42, 49, 51],\n",
       " [40, 60, 56, 58, 59],\n",
       " [40, 60, 66, 63, 61],\n",
       " [40, 60, 66, 68]]"
      ]
     },
     "execution_count": 7,
     "metadata": {},
     "output_type": "execute_result"
    }
   ],
   "source": [
    "get_paths_to_leaves(ro)"
   ]
  },
  {
   "cell_type": "code",
   "execution_count": 8,
   "metadata": {
    "scrolled": true
   },
   "outputs": [
    {
     "name": "stdout",
     "output_type": "stream",
     "text": [
      "Layer 1...\n",
      "40\n",
      "\n",
      "Layer 2...\n",
      "20 * l * 40\n",
      "60 * r * 40\n",
      "\n",
      "Layer 3...\n",
      "13 * l * 20\n",
      "56 * l * 60\n",
      "66 * r * 60\n",
      "\n",
      "Layer 4...\n",
      "10 * l * 13\n",
      "17 * r * 13\n",
      "42 * l * 56\n",
      "58 * r * 56\n",
      "63 * l * 66\n",
      "68 * r * 66\n",
      "\n",
      "Layer 5...\n",
      "8 * l * 10\n",
      "11 * r * 10\n",
      "15 * l * 17\n",
      "49 * r * 42\n",
      "59 * r * 58\n",
      "61 * l * 63\n",
      "\n",
      "Layer 6...\n",
      "12 * r * 11\n",
      "43 * l * 49\n",
      "51 * r * 49\n"
     ]
    }
   ],
   "source": [
    "nbl = bfp(ro)"
   ]
  },
  {
   "cell_type": "code",
   "execution_count": null,
   "metadata": {},
   "outputs": [],
   "source": []
  }
 ],
 "metadata": {
  "kernelspec": {
   "display_name": "Python 3",
   "language": "python",
   "name": "python3"
  },
  "language_info": {
   "codemirror_mode": {
    "name": "ipython",
    "version": 3
   },
   "file_extension": ".py",
   "mimetype": "text/x-python",
   "name": "python",
   "nbconvert_exporter": "python",
   "pygments_lexer": "ipython3",
   "version": "3.7.6"
  }
 },
 "nbformat": 4,
 "nbformat_minor": 4
}
