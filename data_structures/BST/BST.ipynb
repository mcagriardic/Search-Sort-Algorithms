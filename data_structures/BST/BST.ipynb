{
 "cells": [
  {
   "cell_type": "code",
   "execution_count": 1,
   "metadata": {},
   "outputs": [],
   "source": [
    "from bst import BST\n",
    "from tree_node import Node\n",
    "from bfp import bfp\n",
    "\n",
    "from kth_largest import find_kth_largest\n",
    "from kth_smallest import find_kth_smallest\n",
    "from paths_to_leaves import get_paths_to_leaves\n",
    "from preorder_to_bst import preorder_to_bst\n",
    "from longest_path import get_longest_path\n",
    "from inorder_predecessor import inorder_predecessor"
   ]
  },
  {
   "cell_type": "code",
   "execution_count": 2,
   "metadata": {},
   "outputs": [],
   "source": [
    "#                                                 40                                             \n",
    "#                                /                                  \\\n",
    "#                               20                                  60                                        \n",
    "#                 /                                             /                 \\\n",
    "#                13                                            56                  66                                     \n",
    "#           /         \\                                     /      \\            /      \\\n",
    "#         10          17                                  42       58         63       68                                 \n",
    "#      /    \\        /                                      \\         \\      /\n",
    "#     8     11      15                                      49        59    61                                           \n",
    "#             \\                                           /   \\\n",
    "#             12                                        43    51     \n",
    "\n",
    "\n",
    "ro = Node(40)\n",
    "bst = BST(ro)\n",
    "bst.insert(\n",
    "    [20,60,13,17,56,66,10,15,42,58,63,68,8,11,12,49,59,46,51,61,43,47]\n",
    ")"
   ]
  },
  {
   "cell_type": "code",
   "execution_count": 3,
   "metadata": {},
   "outputs": [
    {
     "data": {
      "text/plain": [
       "12"
      ]
     },
     "execution_count": 3,
     "metadata": {},
     "output_type": "execute_result"
    }
   ],
   "source": [
    "inorder_predecessor(ro, 13).v"
   ]
  },
  {
   "cell_type": "code",
   "execution_count": null,
   "metadata": {},
   "outputs": [],
   "source": [
    "tree_max(m)"
   ]
  },
  {
   "cell_type": "code",
   "execution_count": null,
   "metadata": {},
   "outputs": [],
   "source": [
    "class TreeNode:\n",
    "    \n",
    "    def __init__(self, v, l=None, r=None, p=None):\n",
    "        self.v = v\n",
    "        self.l = l\n",
    "        self.r = r\n",
    "        self.p = p\n",
    "        \n",
    "class BST:\n",
    "    \n",
    "    def __init__(self, r):\n",
    "        self.r = r\n",
    "        \n",
    "    \n",
    "    def __insert(self, ro, vti):\n",
    "        \n",
    "        if not ro:\n",
    "            return Node(vti)\n",
    "\n",
    "        if vti <= ro.v:\n",
    "            ro.l = self.__insert(ro.l, vti)\n",
    "        else:\n",
    "            ro.r = self.__insert(ro.r, vti)\n",
    "\n",
    "        return ro"
   ]
  },
  {
   "cell_type": "code",
   "execution_count": null,
   "metadata": {},
   "outputs": [],
   "source": [
    "tree_max(ro).v"
   ]
  },
  {
   "cell_type": "code",
   "execution_count": null,
   "metadata": {
    "scrolled": true
   },
   "outputs": [],
   "source": [
    "bst.delete(47)\n",
    "bst.delete(46)"
   ]
  },
  {
   "cell_type": "code",
   "execution_count": null,
   "metadata": {},
   "outputs": [],
   "source": [
    "find_kth_smallest(ro, 2).v"
   ]
  },
  {
   "cell_type": "code",
   "execution_count": null,
   "metadata": {},
   "outputs": [],
   "source": [
    "bst.search(10)"
   ]
  },
  {
   "cell_type": "code",
   "execution_count": null,
   "metadata": {},
   "outputs": [],
   "source": [
    "bst.search(46)"
   ]
  },
  {
   "cell_type": "code",
   "execution_count": null,
   "metadata": {},
   "outputs": [],
   "source": [
    "get_paths_to_leaves(ro)"
   ]
  },
  {
   "cell_type": "code",
   "execution_count": null,
   "metadata": {
    "scrolled": true
   },
   "outputs": [],
   "source": [
    "nbl = bfp(ro)"
   ]
  },
  {
   "cell_type": "code",
   "execution_count": null,
   "metadata": {},
   "outputs": [],
   "source": [
    "tro = preorder_to_bst([10, 5, 1, 7,8, 40, 50])"
   ]
  },
  {
   "cell_type": "code",
   "execution_count": null,
   "metadata": {},
   "outputs": [],
   "source": [
    "nbl = bfp(tro)"
   ]
  },
  {
   "cell_type": "code",
   "execution_count": null,
   "metadata": {},
   "outputs": [],
   "source": [
    "def find_min_val(ro):\n",
    "    \n",
    "    if not ro:\n",
    "        return None\n",
    "    \n",
    "    left = find_min_val(ro.l)\n",
    "    \n",
    "    if not left:\n",
    "        return ro\n",
    "    \n",
    "    return left"
   ]
  },
  {
   "cell_type": "code",
   "execution_count": null,
   "metadata": {},
   "outputs": [],
   "source": [
    "find_min_val(ro)"
   ]
  },
  {
   "cell_type": "code",
   "execution_count": null,
   "metadata": {},
   "outputs": [],
   "source": [
    "tro"
   ]
  },
  {
   "cell_type": "code",
   "execution_count": null,
   "metadata": {},
   "outputs": [],
   "source": [
    "bfp(tro)"
   ]
  },
  {
   "cell_type": "code",
   "execution_count": null,
   "metadata": {},
   "outputs": [],
   "source": [
    "#                                                 40                                             \n",
    "#                                /                                  \\\n",
    "#                               20                                  60                                        \n",
    "#                 /                                             /                 \\\n",
    "#                13                                            56                  66                                     \n",
    "#           /         \\                                     /      \\            /      \\\n",
    "#         10          17                                  42       58         63       68                                 \n",
    "#      /    \\        /                                      \\         \\      /\n",
    "#     8     11      15                                      49        59    61                                           \n",
    "#    /       \\     /  \\                                  /   \\\n",
    "#   4        12   14  16                               46    51     \n",
    "#    \\                                               /  \\\n",
    "#     6                                            43   47"
   ]
  },
  {
   "cell_type": "code",
   "execution_count": null,
   "metadata": {},
   "outputs": [],
   "source": [
    "visit_ro(ro.r, 43)[0]"
   ]
  },
  {
   "cell_type": "code",
   "execution_count": null,
   "metadata": {},
   "outputs": [],
   "source": [
    "    \n",
    "# [20,13,10,8]\n",
    "\n",
    "# f(20)\n",
    "# f(13)\n",
    "# [20,13,10] -> f(10)\n",
    "# # [20,13,10,8] -> f(8) -> [20,13,10] RETURN -> [20,13,10]\n",
    "# # f(None-l) -> [20,13,10,8]\n",
    "# # f(None-r) -> [20,13,10]\n",
    "\n",
    "# ## f(10) CALLS\n",
    "# ## [20,13,10,11] - > f(11)\n",
    "\n",
    "# ### f(11) CALLS\n",
    "# ### f(None-l-11) CALLS\n",
    "# ### [20,13,10,11,12] - > f(12)"
   ]
  },
  {
   "cell_type": "code",
   "execution_count": null,
   "metadata": {},
   "outputs": [],
   "source": [
    "ro = Node(40)\n",
    "bst = BST(ro)\n",
    "bst.insert(\n",
    "    [20,60,13,17,56,66,10,15,16,14,42,58,63,68,8,4,6,11,12,49,59,46,51,61,43,47]\n",
    ")"
   ]
  },
  {
   "cell_type": "code",
   "execution_count": null,
   "metadata": {},
   "outputs": [],
   "source": [
    "get_longest_path(ro)"
   ]
  },
  {
   "cell_type": "code",
   "execution_count": null,
   "metadata": {},
   "outputs": [],
   "source": []
  }
 ],
 "metadata": {
  "kernelspec": {
   "display_name": "Python 3",
   "language": "python",
   "name": "python3"
  },
  "language_info": {
   "codemirror_mode": {
    "name": "ipython",
    "version": 3
   },
   "file_extension": ".py",
   "mimetype": "text/x-python",
   "name": "python",
   "nbconvert_exporter": "python",
   "pygments_lexer": "ipython3",
   "version": "3.7.6"
  }
 },
 "nbformat": 4,
 "nbformat_minor": 4
}
