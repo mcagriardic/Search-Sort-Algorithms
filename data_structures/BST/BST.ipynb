{
 "cells": [
  {
   "cell_type": "code",
   "execution_count": 27,
   "metadata": {},
   "outputs": [],
   "source": [
    "from bst import BST\n",
    "from tree_node import Node\n",
    "from bfp import bfp\n",
    "\n",
    "from kth_largest import find_kth_largest\n",
    "from kth_smallest import find_kth_smallest\n",
    "from paths_to_leaves import get_paths_to_leaves\n",
    "from preorder_to_bst import preorder_to_bst\n",
    "from longest_path import get_longest_path\n",
    "from inorder_predecessor import inorder_predecessor\n",
    "from height import height\n",
    "from is_balanced_bst import is_balanced_bst"
   ]
  },
  {
   "cell_type": "code",
   "execution_count": 28,
   "metadata": {},
   "outputs": [],
   "source": [
    "#                                                 40                                             \n",
    "#                                /                                  \\\n",
    "#                               20                                  60                                        \n",
    "#                 /                                             /                 \\\n",
    "#                13                                            56                  66                                     \n",
    "#           /         \\                                     /      \\            /      \\\n",
    "#         10          17                                  42       58         63       68                                 \n",
    "#      /    \\        /                                      \\         \\      /\n",
    "#     8     11      15                                      49        59    61                                           \n",
    "#             \\                                           /   \\\n",
    "#             12                                        46    51     \n",
    "#                                                      /  \\\n",
    "#                                                     43  47\n",
    "\n",
    "ro = Node(40)\n",
    "bst = BST(ro)\n",
    "bst.insert(\n",
    "    [20,60,13,17,56,66,10,15,42,58,63,68,8,11,12,49,59,46,51,61,43,47]\n",
    ")"
   ]
  },
  {
   "cell_type": "code",
   "execution_count": 29,
   "metadata": {
    "scrolled": true
   },
   "outputs": [
    {
     "name": "stdout",
     "output_type": "stream",
     "text": [
      "Layer 1...\n",
      "40\n",
      "\n",
      "Layer 2...\n",
      "20 * l * 40\n",
      "60 * r * 40\n",
      "\n",
      "Layer 3...\n",
      "13 * l * 20\n",
      "56 * l * 60\n",
      "66 * r * 60\n",
      "\n",
      "Layer 4...\n",
      "10 * l * 13\n",
      "17 * r * 13\n",
      "42 * l * 56\n",
      "58 * r * 56\n",
      "63 * l * 66\n",
      "68 * r * 66\n",
      "\n",
      "Layer 5...\n",
      "8 * l * 10\n",
      "11 * r * 10\n",
      "15 * l * 17\n",
      "49 * r * 42\n",
      "59 * r * 58\n",
      "61 * l * 63\n",
      "\n",
      "Layer 6...\n",
      "12 * r * 11\n",
      "46 * l * 49\n",
      "51 * r * 49\n",
      "\n",
      "Layer 7...\n",
      "43 * l * 46\n",
      "47 * r * 46\n"
     ]
    },
    {
     "data": {
      "text/plain": [
       "defaultdict(<function bfp.bfp.<locals>.<lambda>()>,\n",
       "            {1: [(40,)],\n",
       "             2: [(20, 40), (60, 40)],\n",
       "             3: [(13, 20), (56, 60), (66, 60)],\n",
       "             4: [(10, 13), (17, 13), (42, 56), (58, 56), (63, 66), (68, 66)],\n",
       "             5: [(8, 10), (11, 10), (15, 17), (49, 42), (59, 58), (61, 63)],\n",
       "             6: [(12, 11), (46, 49), (51, 49)],\n",
       "             7: [(43, 46), (47, 46)]})"
      ]
     },
     "execution_count": 29,
     "metadata": {},
     "output_type": "execute_result"
    }
   ],
   "source": [
    "bfp(ro)"
   ]
  },
  {
   "cell_type": "code",
   "execution_count": 30,
   "metadata": {},
   "outputs": [
    {
     "data": {
      "text/plain": [
       "7"
      ]
     },
     "execution_count": 30,
     "metadata": {},
     "output_type": "execute_result"
    }
   ],
   "source": [
    "height(ro)"
   ]
  },
  {
   "cell_type": "code",
   "execution_count": 31,
   "metadata": {},
   "outputs": [],
   "source": [
    "rot = Node(6)\n",
    "bstt = BST(rot)\n",
    "bstt.insert(\n",
    "    [5,7,3,8,4]\n",
    ")\n"
   ]
  },
  {
   "cell_type": "code",
   "execution_count": 32,
   "metadata": {},
   "outputs": [
    {
     "name": "stdout",
     "output_type": "stream",
     "text": [
      "Layer 1...\n",
      "6\n",
      "\n",
      "Layer 2...\n",
      "5 * l * 6\n",
      "7 * r * 6\n",
      "\n",
      "Layer 3...\n",
      "3 * l * 5\n",
      "8 * r * 7\n",
      "\n",
      "Layer 4...\n",
      "4 * r * 3\n"
     ]
    },
    {
     "data": {
      "text/plain": [
       "defaultdict(<function bfp.bfp.<locals>.<lambda>()>,\n",
       "            {1: [(6,)], 2: [(5, 6), (7, 6)], 3: [(3, 5), (8, 7)], 4: [(4, 3)]})"
      ]
     },
     "execution_count": 32,
     "metadata": {},
     "output_type": "execute_result"
    }
   ],
   "source": [
    "bfp(rot)"
   ]
  },
  {
   "cell_type": "code",
   "execution_count": 34,
   "metadata": {},
   "outputs": [
    {
     "data": {
      "text/plain": [
       "False"
      ]
     },
     "execution_count": 34,
     "metadata": {},
     "output_type": "execute_result"
    }
   ],
   "source": [
    "is_balanced_bst(rot)"
   ]
  },
  {
   "cell_type": "code",
   "execution_count": 35,
   "metadata": {},
   "outputs": [],
   "source": [
    "import random\n",
    "import enum\n",
    "import itertools\n",
    "\n",
    "\n",
    "class Suite(enum.Enum):\n",
    "    SPADE = 'S'\n",
    "    CLUB = 'C'\n",
    "    HEART = 'H'\n",
    "    DIAMOND = 'D'\n",
    "    \n",
    "\n",
    "class Rank(enum.Enum):\n",
    "    ACE = 'A'\n",
    "    TWO = '2'\n",
    "    THREE = '3'\n",
    "    FOUR = '4'\n",
    "    FIVE = '5'\n",
    "    SIX = '6'\n",
    "    SEVEN = '7'\n",
    "    EIGHT = '8'\n",
    "    NINE = '9'\n",
    "    TEN = '10'\n",
    "    JACK = 'J'\n",
    "    QUEEN = 'Q'\n",
    "    KIND = 'K'"
   ]
  },
  {
   "cell_type": "code",
   "execution_count": 39,
   "metadata": {},
   "outputs": [],
   "source": [
    "eight = Rank(\"8\")"
   ]
  },
  {
   "cell_type": "code",
   "execution_count": 46,
   "metadata": {},
   "outputs": [
    {
     "name": "stdout",
     "output_type": "stream",
     "text": [
      "Rank.ACE\n",
      "Rank.TWO\n",
      "Rank.THREE\n",
      "Rank.FOUR\n",
      "Rank.FIVE\n",
      "Rank.SIX\n",
      "Rank.SEVEN\n",
      "Rank.EIGHT\n",
      "Rank.NINE\n",
      "Rank.TEN\n",
      "Rank.JACK\n",
      "Rank.QUEEN\n",
      "Rank.KIND\n"
     ]
    }
   ],
   "source": [
    "for rank in Rank:\n",
    "    print(rank)"
   ]
  },
  {
   "cell_type": "code",
   "execution_count": null,
   "metadata": {},
   "outputs": [],
   "source": []
  }
 ],
 "metadata": {
  "kernelspec": {
   "display_name": "Python 3",
   "language": "python",
   "name": "python3"
  },
  "language_info": {
   "codemirror_mode": {
    "name": "ipython",
    "version": 3
   },
   "file_extension": ".py",
   "mimetype": "text/x-python",
   "name": "python",
   "nbconvert_exporter": "python",
   "pygments_lexer": "ipython3",
   "version": "3.7.6"
  }
 },
 "nbformat": 4,
 "nbformat_minor": 4
}
