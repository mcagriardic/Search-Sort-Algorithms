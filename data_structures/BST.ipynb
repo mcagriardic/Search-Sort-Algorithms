{
 "cells": [
  {
   "cell_type": "code",
   "execution_count": 1,
   "metadata": {},
   "outputs": [],
   "source": [
    "from collections import defaultdict\n",
    "\n",
    "class Node:\n",
    "    \n",
    "    def __init__(self, v, r=None, l=None):\n",
    "        self.v = v\n",
    "        self.r = r\n",
    "        self.l = l\n",
    "\n",
    "class BST:\n",
    "    \n",
    "    def __init__(self, ro):\n",
    "        self.ro = ro\n",
    "        \n",
    "    def __traverse(self, ro, order=\"post\"):\n",
    "        \n",
    "        if not ro:\n",
    "            return None\n",
    "        \n",
    "        if order == \"pre\":   print(ro.v)\n",
    "        self.__traverse(ro.l)\n",
    "        if order == \"in\":    print(ro.v)\n",
    "        self.__traverse(ro.r)\n",
    "        if order == \"post\":  print(ro.v)\n",
    "        \n",
    "    def traverse(self):\n",
    "        self.__traverse(self.ro)\n",
    "        \n",
    "    \n",
    "    def __search(self, ro, vts):\n",
    "        \n",
    "        if not ro:\n",
    "            print(\"Binary search tree does not contain %s...\" %vts)\n",
    "            return None\n",
    "        \n",
    "        if vts < ro.v:\n",
    "            self.__search(ro.l, vts)\n",
    "        elif vts > ro.v:\n",
    "            self.__search(ro.r, vts)\n",
    "        else:\n",
    "            print(\"Found it!...\")\n",
    "            \n",
    "    def search(self, vts):\n",
    "        self.__search(self.ro, vts)\n",
    "        \n",
    "    def __insert(self, ro, vti):\n",
    "        \n",
    "        if not ro:\n",
    "            return Node(vti)\n",
    "\n",
    "        if vti <= ro.v:\n",
    "            ro.l = self.__insert(ro.l, vti)\n",
    "        else:\n",
    "            ro.r = self.__insert(ro.r, vti)\n",
    "\n",
    "        return ro\n",
    "                \n",
    "    def insert(self, vti):\n",
    "        if not isinstance(vti, list):\n",
    "            vti = [vti]\n",
    "        [self.__insert(self.ro, v) for v in vti]\n",
    "\n",
    "\n",
    "    def __delete(self, ro, vtd):\n",
    "        if not ro:\n",
    "            return None\n",
    "            \n",
    "        if ro.v > vtd:\n",
    "            ro.l = self.__delete(ro.l, vtd)\n",
    "        elif ro.v < vtd:\n",
    "            ro.r = self.__delete(ro.r, vtd)\n",
    "        else: # ro.v == vtd\n",
    "            if not ro.r:\n",
    "                return ro.l\n",
    "            elif not ro.l:\n",
    "                return ro.r\n",
    "            elif ro.l and ro.r:\n",
    "                temp = ro.r\n",
    "                while temp.l:\n",
    "                    temp = temp.l\n",
    "                \n",
    "                ro.r = self.__delete(ro.r, temp.v)\n",
    "                ro.v = temp.v\n",
    "\n",
    "        return ro\n",
    "            \n",
    "    def delete(self, vtd):\n",
    "        self.__delete(self.ro, vtd)\n",
    "\n",
    "\n",
    "    def bfp(self):\n",
    "        # Breadth first print ergo layerwise printing\n",
    "        # node by layer\n",
    "        nbl = defaultdict(lambda: [])\n",
    "        q = [[self.ro]]\n",
    "        \n",
    "        # al -> at layer\n",
    "        al = 1\n",
    "        # ll -> last layer\n",
    "        ll = 0\n",
    "\n",
    "        # clc -> current layer node count \n",
    "        clc = 1\n",
    "        # nlc -> next layer node count\n",
    "        nlc = 0\n",
    "\n",
    "        while q:\n",
    "            # detect the layer change to layer header\n",
    "            if ll != al:\n",
    "                print((\"\\n\" if al != 1 else \"\") + \"Layer %s...\" %al)\n",
    "            \n",
    "            # current node info in the form of tuple\n",
    "            # cni -> (cn, pn, rtp)\n",
    "            # cni -> current node information\n",
    "            # cn -> current node\n",
    "            # pn -> parent node\n",
    "            # rtp -> relation to parent\n",
    "            cni = q[0]\n",
    "            if al == 1:\n",
    "                print(cni[0].v)\n",
    "                nbl[al] = [(cni[0].v,)]\n",
    "            else:\n",
    "                ttp = (\n",
    "                    \"{0} * \"      # Node value\n",
    "                    \"{1} * \"      # Relation to parent\n",
    "                    \"{2}\"         # Parent node value\n",
    "                ).format(\n",
    "                    cni[0].v,\n",
    "                    cni[2],\n",
    "                    cni[1].v\n",
    "                    \n",
    "                )\n",
    "                print(ttp)\n",
    "                nbl[al] = nbl[al] + [(cni[0].v, cni[1].v)]\n",
    "            \n",
    "            # last layer becomes the active layer\n",
    "            ll = al\n",
    "            clc -= 1\n",
    "\n",
    "            q.pop(0)\n",
    "\n",
    "            if cni[0].l:\n",
    "                q.append((cni[0].l, cni[0], \"l\"))\n",
    "                nlc += 1\n",
    "\n",
    "            if cni[0].r:\n",
    "                q.append((cni[0].r, cni[0], \"r\"))\n",
    "                nlc += 1\n",
    "\n",
    "            # when the nodes in the current layer are\n",
    "            # finished\n",
    "            if clc == 0:\n",
    "                # change the clc to be next layer\n",
    "                clc = nlc\n",
    "                # restart the next layer\n",
    "                nlc = 0\n",
    "                # advance to next layer\n",
    "                al += 1\n",
    "\n",
    "        return nbl"
   ]
  },
  {
   "cell_type": "code",
   "execution_count": 2,
   "metadata": {},
   "outputs": [],
   "source": [
    "#                                                 40                                             \n",
    "#                                /                                  \\\n",
    "#                               20                                  60                                        \n",
    "#                 /                                             /                 \\\n",
    "#                13                                            56                  66                                     \n",
    "#           /         \\                                     /      \\            /      \\\n",
    "#         10          17                                  42       58         63       68                                 \n",
    "#      /    \\        /                                      \\         \\      /\n",
    "#     8     11      15                                      49        59    61                                           \n",
    "#             \\                                           /   \\\n",
    "#             12                                        43    51     \n",
    "\n",
    "\n",
    "bst = BST(Node(40))\n",
    "bst.insert(\n",
    "    [20,60,13,17,56,66,10,15,42,58,63,68,8,11,12,49,59,46,51,61,43,47]\n",
    ")"
   ]
  },
  {
   "cell_type": "code",
   "execution_count": 3,
   "metadata": {
    "scrolled": true
   },
   "outputs": [],
   "source": [
    "bst.delete(47)\n",
    "bst.delete(46)"
   ]
  },
  {
   "cell_type": "code",
   "execution_count": 4,
   "metadata": {},
   "outputs": [
    {
     "name": "stdout",
     "output_type": "stream",
     "text": [
      "Found it!...\n"
     ]
    }
   ],
   "source": [
    "bst.search(12)"
   ]
  },
  {
   "cell_type": "code",
   "execution_count": 5,
   "metadata": {},
   "outputs": [
    {
     "name": "stdout",
     "output_type": "stream",
     "text": [
      "Binary search tree does not contain 46...\n"
     ]
    }
   ],
   "source": [
    "bst.search(46)"
   ]
  },
  {
   "cell_type": "code",
   "execution_count": 6,
   "metadata": {
    "scrolled": true
   },
   "outputs": [
    {
     "name": "stdout",
     "output_type": "stream",
     "text": [
      "Layer 1...\n",
      "40\n",
      "\n",
      "Layer 2...\n",
      "20 * l * 40\n",
      "60 * r * 40\n",
      "\n",
      "Layer 3...\n",
      "13 * l * 20\n",
      "56 * l * 60\n",
      "66 * r * 60\n",
      "\n",
      "Layer 4...\n",
      "10 * l * 13\n",
      "17 * r * 13\n",
      "42 * l * 56\n",
      "58 * r * 56\n",
      "63 * l * 66\n",
      "68 * r * 66\n",
      "\n",
      "Layer 5...\n",
      "8 * l * 10\n",
      "11 * r * 10\n",
      "15 * l * 17\n",
      "49 * r * 42\n",
      "59 * r * 58\n",
      "61 * l * 63\n",
      "\n",
      "Layer 6...\n",
      "12 * r * 11\n",
      "43 * l * 49\n",
      "51 * r * 49\n"
     ]
    }
   ],
   "source": [
    "nbl = bst.bfp()"
   ]
  },
  {
   "cell_type": "code",
   "execution_count": 7,
   "metadata": {},
   "outputs": [
    {
     "data": {
      "text/plain": [
       "defaultdict(<function __main__.BST.bfp.<locals>.<lambda>()>,\n",
       "            {1: [(40,)],\n",
       "             2: [(20, 40), (60, 40)],\n",
       "             3: [(13, 20), (56, 60), (66, 60)],\n",
       "             4: [(10, 13), (17, 13), (42, 56), (58, 56), (63, 66), (68, 66)],\n",
       "             5: [(8, 10), (11, 10), (15, 17), (49, 42), (59, 58), (61, 63)],\n",
       "             6: [(12, 11), (43, 49), (51, 49)]})"
      ]
     },
     "execution_count": 7,
     "metadata": {},
     "output_type": "execute_result"
    }
   ],
   "source": [
    "nbl"
   ]
  }
 ],
 "metadata": {
  "kernelspec": {
   "display_name": "Python 3",
   "language": "python",
   "name": "python3"
  },
  "language_info": {
   "codemirror_mode": {
    "name": "ipython",
    "version": 3
   },
   "file_extension": ".py",
   "mimetype": "text/x-python",
   "name": "python",
   "nbconvert_exporter": "python",
   "pygments_lexer": "ipython3",
   "version": "3.7.6"
  }
 },
 "nbformat": 4,
 "nbformat_minor": 4
}
