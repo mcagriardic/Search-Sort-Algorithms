{
 "cells": [
  {
   "cell_type": "code",
   "execution_count": 39,
   "metadata": {},
   "outputs": [],
   "source": [
    "import random\n",
    "\n",
    "def generate_pairs():\n",
    "    bday = [\n",
    "        random.randint(1900, 2000)\n",
    "        for i in range(125)\n",
    "    ]\n",
    "\n",
    "    dday = [\n",
    "        random.randint(bd, 2000)\n",
    "        for bd in bday\n",
    "    ]\n",
    "\n",
    "    return [(bd, dd) for (bd,dd) in zip(bday, dday)]"
   ]
  },
  {
   "cell_type": "code",
   "execution_count": 40,
   "metadata": {},
   "outputs": [
    {
     "data": {
      "text/plain": [
       "(1962, 41)"
      ]
     },
     "execution_count": 40,
     "metadata": {},
     "output_type": "execute_result"
    }
   ],
   "source": [
    "from collections import defaultdict\n",
    "\n",
    "alive_dict = defaultdict(lambda: 0)\n",
    "\n",
    "pairs = generate_pairs()\n",
    "for bd, dd in pairs:\n",
    "    for y in range(bd, dd + 1):\n",
    "        alive_dict[y] += 1\n",
    "\n",
    "max(alive_dict.items(), key= lambda k: k[1])"
   ]
  },
  {
   "cell_type": "code",
   "execution_count": 35,
   "metadata": {},
   "outputs": [
    {
     "data": {
      "text/plain": [
       "(1974, 49)"
      ]
     },
     "execution_count": 35,
     "metadata": {},
     "output_type": "execute_result"
    }
   ],
   "source": []
  },
  {
   "cell_type": "code",
   "execution_count": 32,
   "metadata": {},
   "outputs": [
    {
     "data": {
      "text/plain": [
       "defaultdict(<function __main__.<lambda>()>,\n",
       "            {1951: 45,\n",
       "             1952: 44,\n",
       "             1953: 43,\n",
       "             1954: 45,\n",
       "             1955: 47,\n",
       "             1956: 45,\n",
       "             1957: 46,\n",
       "             1958: 45,\n",
       "             1959: 44,\n",
       "             1960: 44,\n",
       "             1961: 44,\n",
       "             1962: 44,\n",
       "             1963: 46,\n",
       "             1964: 47,\n",
       "             1965: 47,\n",
       "             1966: 46,\n",
       "             1967: 46,\n",
       "             1968: 48,\n",
       "             1969: 45,\n",
       "             1970: 47,\n",
       "             1971: 47,\n",
       "             1972: 47,\n",
       "             1973: 48,\n",
       "             1974: 49,\n",
       "             1975: 48,\n",
       "             1976: 47,\n",
       "             1977: 44,\n",
       "             1978: 42,\n",
       "             1979: 38,\n",
       "             1980: 39,\n",
       "             1981: 38,\n",
       "             1982: 36,\n",
       "             1983: 35,\n",
       "             1984: 33,\n",
       "             1985: 30,\n",
       "             1986: 29,\n",
       "             1987: 28,\n",
       "             1988: 29,\n",
       "             1989: 28,\n",
       "             1990: 27,\n",
       "             1910: 10,\n",
       "             1911: 10,\n",
       "             1912: 11,\n",
       "             1913: 12,\n",
       "             1914: 15,\n",
       "             1915: 16,\n",
       "             1916: 17,\n",
       "             1917: 16,\n",
       "             1918: 17,\n",
       "             1919: 17,\n",
       "             1920: 18,\n",
       "             1921: 18,\n",
       "             1922: 16,\n",
       "             1923: 17,\n",
       "             1924: 18,\n",
       "             1925: 17,\n",
       "             1926: 19,\n",
       "             1927: 24,\n",
       "             1928: 24,\n",
       "             1929: 27,\n",
       "             1930: 28,\n",
       "             1931: 29,\n",
       "             1932: 29,\n",
       "             1933: 30,\n",
       "             1934: 32,\n",
       "             1935: 32,\n",
       "             1936: 33,\n",
       "             1937: 34,\n",
       "             1938: 34,\n",
       "             1939: 35,\n",
       "             1940: 35,\n",
       "             1941: 35,\n",
       "             1942: 34,\n",
       "             1943: 34,\n",
       "             1944: 37,\n",
       "             1991: 26,\n",
       "             1992: 22,\n",
       "             1993: 20,\n",
       "             1994: 18,\n",
       "             1995: 19,\n",
       "             1996: 14,\n",
       "             1997: 17,\n",
       "             1998: 13,\n",
       "             1999: 8,\n",
       "             2000: 6,\n",
       "             1945: 36,\n",
       "             1946: 37,\n",
       "             1947: 38,\n",
       "             1948: 40,\n",
       "             1949: 43,\n",
       "             1950: 44,\n",
       "             1904: 6,\n",
       "             1905: 6,\n",
       "             1906: 7,\n",
       "             1907: 7,\n",
       "             1908: 7,\n",
       "             1909: 9,\n",
       "             1903: 4,\n",
       "             1900: 2,\n",
       "             1901: 2,\n",
       "             1902: 2})"
      ]
     },
     "execution_count": 32,
     "metadata": {},
     "output_type": "execute_result"
    }
   ],
   "source": [
    "alive_dict"
   ]
  },
  {
   "cell_type": "code",
   "execution_count": null,
   "metadata": {},
   "outputs": [],
   "source": []
  },
  {
   "cell_type": "code",
   "execution_count": null,
   "metadata": {},
   "outputs": [],
   "source": []
  }
 ],
 "metadata": {
  "kernelspec": {
   "display_name": "Python 3",
   "language": "python",
   "name": "python3"
  },
  "language_info": {
   "codemirror_mode": {
    "name": "ipython",
    "version": 3
   },
   "file_extension": ".py",
   "mimetype": "text/x-python",
   "name": "python",
   "nbconvert_exporter": "python",
   "pygments_lexer": "ipython3",
   "version": "3.7.6"
  }
 },
 "nbformat": 4,
 "nbformat_minor": 4
}
