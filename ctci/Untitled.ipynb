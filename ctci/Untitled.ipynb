{
 "cells": [
  {
   "cell_type": "code",
   "execution_count": 119,
   "metadata": {},
   "outputs": [],
   "source": [
    "def get_xy_low_high(r):\n",
    "    xl = r[\"left_x\"]\n",
    "    yl = r[\"bottom_y\"]\n",
    "    xh = r[\"left_x\"] + r[\"width\"]\n",
    "    yh = r[\"bottom_y\"] + r[\"length\"]\n",
    "    return xl, yl, xh, yh\n",
    "\n",
    "def is_overlap(r1, r2):\n",
    "    xl1, yl1, xh1, yh1 = get_xy_low_high(r1)\n",
    "    xl2, yl2, xh2, yh2 = get_xy_low_high(r2)\n",
    "\n",
    "    for x in range(xl1, xh1 + 1):\n",
    "        if x == xl2 or x == xh2:\n",
    "            return True\n",
    "    for y in range(yl1, yh1 + 1):\n",
    "        if y == yl2 or y == yh2:\n",
    "            return True\n",
    "    return False"
   ]
  },
  {
   "cell_type": "code",
   "execution_count": 120,
   "metadata": {},
   "outputs": [
    {
     "data": {
      "text/plain": [
       "True"
      ]
     },
     "execution_count": 120,
     "metadata": {},
     "output_type": "execute_result"
    }
   ],
   "source": [
    "r1={\n",
    "    'left_x' : 1,\n",
    "    'bottom_y' : 1,\n",
    "    'width' : 6,\n",
    "    'length' : 3\n",
    "}\n",
    "r2={\n",
    "    'left_x' : 5,\n",
    "    'bottom_y' : 2,\n",
    "    'width' : 3,\n",
    "    'length' : 6\n",
    "}\n",
    "\n",
    "is_overlap(r1,r2)"
   ]
  },
  {
   "cell_type": "code",
   "execution_count": null,
   "metadata": {},
   "outputs": [],
   "source": []
  },
  {
   "cell_type": "code",
   "execution_count": null,
   "metadata": {},
   "outputs": [],
   "source": []
  }
 ],
 "metadata": {
  "kernelspec": {
   "display_name": "Python 3",
   "language": "python",
   "name": "python3"
  },
  "language_info": {
   "codemirror_mode": {
    "name": "ipython",
    "version": 3
   },
   "file_extension": ".py",
   "mimetype": "text/x-python",
   "name": "python",
   "nbconvert_exporter": "python",
   "pygments_lexer": "ipython3",
   "version": "3.7.6"
  }
 },
 "nbformat": 4,
 "nbformat_minor": 4
}
