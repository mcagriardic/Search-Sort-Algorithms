{
 "cells": [
  {
   "cell_type": "code",
   "execution_count": 1,
   "metadata": {},
   "outputs": [],
   "source": [
    "from collections import defaultdict\n",
    "\n",
    "def master_mind(guess):\n",
    "    answer = [\"Y\", \"B\", \"Y\", \"G\"]\n",
    "    \n",
    "    if not isinstance(guess, list):\n",
    "        guess = list(guess)\n",
    "\n",
    "    # ac -> answer count\n",
    "    ac = defaultdict(lambda: 0)\n",
    "     \n",
    "    # gc -> guess count\n",
    "    gc = defaultdict(lambda: 0)\n",
    "\n",
    "    # am -> actual match\n",
    "    am = 0\n",
    "    for a,g in zip(answer, guess):\n",
    "        if a == g:\n",
    "            am += 1\n",
    "        ac[a] += 1\n",
    "        gc[g] += 1\n",
    "\n",
    "    # tm -> total match\n",
    "    tm = 0\n",
    "    # kg -> key guess\n",
    "    for kg in gc:\n",
    "        if gc[kg] >= ac[kg]:\n",
    "            tm += ac[kg]\n",
    "        elif gc[kg] < ac[kg]:\n",
    "            tm += gc[kg]\n",
    "\n",
    "    # pm -> pseudo match\n",
    "    pm = tm - am\n",
    "\n",
    "    return pm, am"
   ]
  },
  {
   "cell_type": "code",
   "execution_count": 2,
   "metadata": {},
   "outputs": [
    {
     "name": "stdout",
     "output_type": "stream",
     "text": [
      "[True, True, True, True]\n"
     ]
    }
   ],
   "source": [
    "# tcs -> test cases\n",
    "tcs = [\"BYYB\", \"BYYG\", \"YYYY\", \"RRRR\"]\n",
    "answers = [(2, 1), (2, 2), (0, 2), (0, 0)]\n",
    "print([master_mind(t) == a for t,a in zip(tcs, answers)])"
   ]
  },
  {
   "cell_type": "code",
   "execution_count": null,
   "metadata": {},
   "outputs": [],
   "source": []
  },
  {
   "cell_type": "code",
   "execution_count": null,
   "metadata": {},
   "outputs": [],
   "source": []
  },
  {
   "cell_type": "code",
   "execution_count": null,
   "metadata": {},
   "outputs": [],
   "source": []
  }
 ],
 "metadata": {
  "kernelspec": {
   "display_name": "Python 3",
   "language": "python",
   "name": "python3"
  },
  "language_info": {
   "codemirror_mode": {
    "name": "ipython",
    "version": 3
   },
   "file_extension": ".py",
   "mimetype": "text/x-python",
   "name": "python",
   "nbconvert_exporter": "python",
   "pygments_lexer": "ipython3",
   "version": "3.7.6"
  }
 },
 "nbformat": 4,
 "nbformat_minor": 4
}
