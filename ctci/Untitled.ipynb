{
 "cells": [
  {
   "cell_type": "code",
   "execution_count": 1,
   "metadata": {},
   "outputs": [],
   "source": [
    "def find_sub_section_to_sort(l):\n",
    "    upper_idx = 0\n",
    "    maxidx = 0\n",
    "    to_sort = []\n",
    "    for i in range(1, len(l)):\n",
    "        if l[i] > l[maxidx]:\n",
    "            maxidx = i\n",
    "        elif l[i] < l[maxidx]:\n",
    "            upper_idx = i\n",
    "            to_sort.append(l[i])\n",
    "\n",
    "    lower_number = min(to_sort)\n",
    "\n",
    "    for i in range(len(l)):\n",
    "        if l[i] > lower_number:\n",
    "            lower_idx = i\n",
    "            break\n",
    "\n",
    "    return (lower_idx, upper_idx)"
   ]
  },
  {
   "cell_type": "code",
   "execution_count": 5,
   "metadata": {},
   "outputs": [
    {
     "data": {
      "text/plain": [
       "(3, 8)"
      ]
     },
     "execution_count": 5,
     "metadata": {},
     "output_type": "execute_result"
    }
   ],
   "source": [
    "find_sub_section_to_sort([1,2,4,7,10,11,8,12,6,16,18,19])"
   ]
  },
  {
   "cell_type": "code",
   "execution_count": 6,
   "metadata": {},
   "outputs": [
    {
     "data": {
      "text/plain": [
       "(3, 5)"
      ]
     },
     "execution_count": 6,
     "metadata": {},
     "output_type": "execute_result"
    }
   ],
   "source": [
    "find_sub_section_to_sort([1, 2, 3, 7, 5, 6, 8, 9])"
   ]
  },
  {
   "cell_type": "code",
   "execution_count": 7,
   "metadata": {},
   "outputs": [
    {
     "data": {
      "text/plain": [
       "(1, 8)"
      ]
     },
     "execution_count": 7,
     "metadata": {},
     "output_type": "execute_result"
    }
   ],
   "source": [
    "find_sub_section_to_sort([1, 2, 3, 7, 5, 6, 8, 9, 1])"
   ]
  },
  {
   "cell_type": "code",
   "execution_count": null,
   "metadata": {},
   "outputs": [],
   "source": []
  }
 ],
 "metadata": {
  "kernelspec": {
   "display_name": "Python 3",
   "language": "python",
   "name": "python3"
  },
  "language_info": {
   "codemirror_mode": {
    "name": "ipython",
    "version": 3
   },
   "file_extension": ".py",
   "mimetype": "text/x-python",
   "name": "python",
   "nbconvert_exporter": "python",
   "pygments_lexer": "ipython3",
   "version": "3.7.6"
  }
 },
 "nbformat": 4,
 "nbformat_minor": 4
}
