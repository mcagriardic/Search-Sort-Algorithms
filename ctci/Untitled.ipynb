{
 "cells": [
  {
   "cell_type": "code",
   "execution_count": 41,
   "metadata": {},
   "outputs": [],
   "source": [
    "import random\n",
    "\n",
    "def generate_pairs():\n",
    "    bday = [\n",
    "        random.randint(1900, 2000)\n",
    "        for i in range(250)\n",
    "    ]\n",
    "\n",
    "    dday = [\n",
    "        random.randint(bd, 2000)\n",
    "        for bd in bday\n",
    "    ]\n",
    "\n",
    "    return [(bd, dd) for (bd,dd) in zip(bday, dday)]"
   ]
  },
  {
   "cell_type": "code",
   "execution_count": 42,
   "metadata": {},
   "outputs": [
    {
     "data": {
      "text/plain": [
       "(1971, 93)"
      ]
     },
     "execution_count": 42,
     "metadata": {},
     "output_type": "execute_result"
    }
   ],
   "source": [
    "from collections import defaultdict\n",
    "\n",
    "alive_dict = defaultdict(lambda: 0)\n",
    "\n",
    "pairs = generate_pairs()\n",
    "for bd, dd in pairs:\n",
    "    for y in range(bd, dd + 1):\n",
    "        alive_dict[y] += 1\n",
    "\n",
    "max(alive_dict.items(), key= lambda k: k[1])"
   ]
  },
  {
   "cell_type": "code",
   "execution_count": 66,
   "metadata": {},
   "outputs": [],
   "source": [
    "def is_prime_number(val):\n",
    "    i = 2\n",
    "    while True:\n",
    "        if val == i:\n",
    "            return True\n",
    "        if val % i == 0:\n",
    "            return False\n",
    "\n",
    "        i+= 1"
   ]
  },
  {
   "cell_type": "code",
   "execution_count": 68,
   "metadata": {},
   "outputs": [
    {
     "data": {
      "text/plain": [
       "False"
      ]
     },
     "execution_count": 68,
     "metadata": {},
     "output_type": "execute_result"
    }
   ],
   "source": [
    "is_prime_number(6)"
   ]
  },
  {
   "cell_type": "code",
   "execution_count": null,
   "metadata": {},
   "outputs": [],
   "source": []
  },
  {
   "cell_type": "code",
   "execution_count": null,
   "metadata": {},
   "outputs": [],
   "source": []
  },
  {
   "cell_type": "code",
   "execution_count": null,
   "metadata": {},
   "outputs": [],
   "source": []
  }
 ],
 "metadata": {
  "kernelspec": {
   "display_name": "Python 3",
   "language": "python",
   "name": "python3"
  },
  "language_info": {
   "codemirror_mode": {
    "name": "ipython",
    "version": 3
   },
   "file_extension": ".py",
   "mimetype": "text/x-python",
   "name": "python",
   "nbconvert_exporter": "python",
   "pygments_lexer": "ipython3",
   "version": "3.7.6"
  }
 },
 "nbformat": 4,
 "nbformat_minor": 4
}
