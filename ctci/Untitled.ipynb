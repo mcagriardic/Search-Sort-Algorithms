{
 "cells": [
  {
   "cell_type": "code",
   "execution_count": 123,
   "metadata": {
    "scrolled": true
   },
   "outputs": [],
   "source": [
    "\"\"\"\n",
    "From: Cracking the Coding Interview\n",
    "Pattern Matching\n",
    "You are given two strings, pattern and value.\n",
    "The pattern can only be a and b where as values can be for example\n",
    "catcatcatgocatgo which matches with aaabab. Write a function which tests\n",
    "to see if the value matches the pattern.\n",
    "\"\"\"\n",
    "\n",
    "def find_pattern(cs):\n",
    "    if len(cs) == 0:\n",
    "        return \"\"\n",
    "\n",
    "    # p -> pattern\n",
    "    p = [cs[0]]\n",
    "    # tc -> temporary container\n",
    "    tc = []\n",
    "    # mi -> match index\n",
    "    mi = 0\n",
    "    for i in range(1, len(cs)):\n",
    "        if cs[i] == p[mi]:\n",
    "            tc.append(cs[i])\n",
    "            mi += 1\n",
    "            if p == tc:\n",
    "                return \"\".join(p)\n",
    "        elif cs[i] != p[mi]:\n",
    "            p.append(cs[i])\n",
    "    return \"\".join(p)\n",
    "\n",
    "def count_until_next_dif_elem(p):\n",
    "    c = 1\n",
    "    for i in range(1, len(p)):\n",
    "        if p[i-1] == p[i]:\n",
    "            c += 1\n",
    "        else:\n",
    "            break\n",
    "    return c\n",
    "\n",
    "def is_pattern_match(cs, pm):\n",
    "    s = 0\n",
    "    while len(cs) > 0:\n",
    "        p = find_pattern(cs)\n",
    "        cut = count_until_next_dif_elem(pm)\n",
    "        if p * cut != cs[s:len(p) * cut]:\n",
    "            return False\n",
    "        if len(pm) == 0 and len(p) != 0:\n",
    "            return False\n",
    "        pm = pm[cut:]\n",
    "        cs = cs[len(p) * cut:]\n",
    "\n",
    "    return True"
   ]
  },
  {
   "cell_type": "code",
   "execution_count": 128,
   "metadata": {},
   "outputs": [
    {
     "data": {
      "text/plain": [
       "[True, False, False]"
      ]
     },
     "execution_count": 128,
     "metadata": {},
     "output_type": "execute_result"
    }
   ],
   "source": [
    "# tc -> test cases\n",
    "tc = [\n",
    "    (\"catcatcatgogocat\", \"aaabba\"),\n",
    "    (\"catcatcacar\", \"aabb\"),\n",
    "    (\"catcaxcaca\", \"aabb\")\n",
    "]\n",
    "\n",
    "[is_pattern_match(cs, pm) for cs, pm in tc]"
   ]
  },
  {
   "cell_type": "code",
   "execution_count": null,
   "metadata": {},
   "outputs": [],
   "source": []
  }
 ],
 "metadata": {
  "kernelspec": {
   "display_name": "Python 3",
   "language": "python",
   "name": "python3"
  },
  "language_info": {
   "codemirror_mode": {
    "name": "ipython",
    "version": 3
   },
   "file_extension": ".py",
   "mimetype": "text/x-python",
   "name": "python",
   "nbconvert_exporter": "python",
   "pygments_lexer": "ipython3",
   "version": "3.7.6"
  }
 },
 "nbformat": 4,
 "nbformat_minor": 4
}
