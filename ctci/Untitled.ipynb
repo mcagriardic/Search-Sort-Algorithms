{
 "cells": [
  {
   "cell_type": "code",
   "execution_count": 63,
   "metadata": {},
   "outputs": [],
   "source": [
    "l = [[1,2], [4,3],[4,4]]"
   ]
  },
  {
   "cell_type": "code",
   "execution_count": 64,
   "metadata": {},
   "outputs": [],
   "source": [
    "import numpy as np"
   ]
  },
  {
   "cell_type": "code",
   "execution_count": 65,
   "metadata": {},
   "outputs": [
    {
     "data": {
      "text/plain": [
       "4"
      ]
     },
     "execution_count": 65,
     "metadata": {},
     "output_type": "execute_result"
    }
   ],
   "source": [
    "max(max(l))"
   ]
  },
  {
   "cell_type": "code",
   "execution_count": 66,
   "metadata": {},
   "outputs": [
    {
     "data": {
      "text/plain": [
       "[4, 4]"
      ]
     },
     "execution_count": 66,
     "metadata": {},
     "output_type": "execute_result"
    }
   ],
   "source": [
    "max(l)"
   ]
  },
  {
   "cell_type": "code",
   "execution_count": 67,
   "metadata": {},
   "outputs": [],
   "source": [
    "from functools import cmp_to_key"
   ]
  },
  {
   "cell_type": "code",
   "execution_count": 68,
   "metadata": {},
   "outputs": [
    {
     "data": {
      "text/plain": [
       "[4, 4]"
      ]
     },
     "execution_count": 68,
     "metadata": {},
     "output_type": "execute_result"
    }
   ],
   "source": [
    "import operator\n",
    "\n",
    "max(l)"
   ]
  },
  {
   "cell_type": "code",
   "execution_count": 70,
   "metadata": {},
   "outputs": [
    {
     "data": {
      "text/plain": [
       "[[0, 0, 0, 0], [0, 0, 0, 0], [0, 0, 0, 0], [0, 0, 0, 0]]"
      ]
     },
     "execution_count": 70,
     "metadata": {},
     "output_type": "execute_result"
    }
   ],
   "source": [
    "[[0] * 4 for s in range(4)]"
   ]
  },
  {
   "cell_type": "code",
   "execution_count": 85,
   "metadata": {},
   "outputs": [],
   "source": [
    "l = [[1,1], [2,2]]"
   ]
  },
  {
   "cell_type": "code",
   "execution_count": 87,
   "metadata": {},
   "outputs": [
    {
     "data": {
      "text/plain": [
       "array([[0, 0],\n",
       "       [1, 1]])"
      ]
     },
     "execution_count": 87,
     "metadata": {},
     "output_type": "execute_result"
    }
   ],
   "source": [
    "import numpy as np\n",
    "np.subtract(l, 1)"
   ]
  },
  {
   "cell_type": "code",
   "execution_count": 120,
   "metadata": {},
   "outputs": [
    {
     "data": {
      "text/plain": [
       "[2, 3]"
      ]
     },
     "execution_count": 120,
     "metadata": {},
     "output_type": "execute_result"
    }
   ],
   "source": [
    "\n",
    "import numpy as np\n",
    "\n",
    "#l -> line\n",
    "def standardise_coordinates(l):\n",
    "    return np.subtract(l, 1).tolist()\n",
    "\n",
    "def get_grid_edge(merged_coordinates):\n",
    "    return max(max(merged_coordinates)) + 1\n",
    "\n",
    "def create_line_coordinates_util(axis_s, axis_e, grid_edge):\n",
    "    if axis_s == axis_e:\n",
    "        return [axis_s] * grid_edge\n",
    "    return [c for c in range(axis_s, axis_e + 1)]\n",
    "\n",
    "def create_line_coordinates(l, grid_edge):\n",
    "    coordinates = []\n",
    "    xs, xe = l[0]\n",
    "    ys, ye = l[1]\n",
    "    x = create_line_coordinates_util(xs, xe, grid_edge)\n",
    "    y = create_line_coordinates_util(ys, ye, grid_edge)\n",
    "    return list(zip(x, y))\n",
    "\n",
    "def has_common_coordinate(l1, l2):\n",
    "    for c1 in l1:\n",
    "        for c2 in l2:\n",
    "            if c1 == c2:\n",
    "                return np.add(c1, 1).tolist()\n",
    "    return -1\n",
    "\n",
    "def are_lines_overlap(l1, l2):\n",
    "    l1,l2 = [standardise_coordinates(l) for l in [l1, l2]]\n",
    "    grid_edge = get_grid_edge(l1 + l2)\n",
    "    l1 = create_line_coordinates(l1, grid_edge)\n",
    "    l2 = create_line_coordinates(l2, grid_edge)\n",
    "    return has_common_coordinate(l1, l2)\n",
    "\n",
    "are_lines_overlap([[2, 2], [1, 4]], [[1, 4], [3, 3]])\n"
   ]
  },
  {
   "cell_type": "code",
   "execution_count": 132,
   "metadata": {},
   "outputs": [
    {
     "data": {
      "text/plain": [
       "({2}, {3})"
      ]
     },
     "execution_count": 132,
     "metadata": {},
     "output_type": "execute_result"
    }
   ],
   "source": []
  },
  {
   "cell_type": "code",
   "execution_count": 131,
   "metadata": {},
   "outputs": [
    {
     "data": {
      "text/plain": [
       "{3}"
      ]
     },
     "execution_count": 131,
     "metadata": {},
     "output_type": "execute_result"
    }
   ],
   "source": []
  },
  {
   "cell_type": "code",
   "execution_count": 146,
   "metadata": {},
   "outputs": [],
   "source": [
    "def are_lines_overlap_alt(l1, l2):\n",
    "    x1, y1 = l1\n",
    "    x2, y2 = l2\n",
    "    \n",
    "    x1s, x1e = l1[0]\n",
    "    y1s, y1e = l1[1]\n",
    "\n",
    "    x2s, x2e = l2[0]\n",
    "    y2s, y2e = l2[1]\n",
    "    \n",
    "    return list(zip(\n",
    "        set(range(x1s, x1e + 1)) & set(range(x2s, x2e + 1)),\n",
    "        set(range(y1s, y1e + 1)) & set(range(y2s, y2e + 1))\n",
    "    ))"
   ]
  },
  {
   "cell_type": "code",
   "execution_count": 149,
   "metadata": {},
   "outputs": [
    {
     "data": {
      "text/plain": [
       "[(2, 3)]"
      ]
     },
     "execution_count": 149,
     "metadata": {},
     "output_type": "execute_result"
    }
   ],
   "source": [
    "are_lines_overlap_alt([[2, 2], [1, 4]], [[1, 4], [3, 3]])\n"
   ]
  },
  {
   "cell_type": "code",
   "execution_count": null,
   "metadata": {},
   "outputs": [],
   "source": []
  }
 ],
 "metadata": {
  "kernelspec": {
   "display_name": "Python 3",
   "language": "python",
   "name": "python3"
  },
  "language_info": {
   "codemirror_mode": {
    "name": "ipython",
    "version": 3
   },
   "file_extension": ".py",
   "mimetype": "text/x-python",
   "name": "python",
   "nbconvert_exporter": "python",
   "pygments_lexer": "ipython3",
   "version": "3.7.6"
  }
 },
 "nbformat": 4,
 "nbformat_minor": 4
}
