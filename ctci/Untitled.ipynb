{
 "cells": [
  {
   "cell_type": "code",
   "execution_count": 246,
   "metadata": {},
   "outputs": [],
   "source": [
    "class Node:\n",
    "    def __init__(self, v, n=None, p=None):\n",
    "        # v -> value\n",
    "        self.v = v\n",
    "        # n -> next\n",
    "        self.n = n\n",
    "        # p -> previous\n",
    "        self.p = p\n",
    "        \n",
    "class LinkedList:\n",
    "    def __init__(self, h=None):\n",
    "        # h -> head\n",
    "        self.h = h\n",
    "        \n",
    "    def __insert(self,v):\n",
    "        if not self.h:\n",
    "            self.h = Node(v)\n",
    "        else:\n",
    "            # cn -> current node\n",
    "            cn = self.h\n",
    "            while cn:\n",
    "                if not cn.n:\n",
    "                    break\n",
    "                cn = cn.n\n",
    "            inserted = Node(v,n=None,p=cn)\n",
    "            cn.n = inserted\n",
    "            \n",
    "    def insert(self, vs):\n",
    "        # vs -> values\n",
    "        if not isinstance(vs, list):\n",
    "            vs = [vs]\n",
    "        # v -> value\n",
    "        [self.__insert(v) for v in vs]\n",
    "        \n",
    "    def __traverse(self, ro):\n",
    "        # ro -> root\n",
    "        if not ro:\n",
    "            return None\n",
    "        print(ro.v)\n",
    "        self.__traverse(ro.n)\n",
    "        \n",
    "    def traverse(self):\n",
    "        return self.__traverse(self.h)\n",
    "    \n",
    "    def get_elem_to_move(self):\n",
    "        cn = self.h.n\n",
    "        pn = cn.p\n",
    "        while cn:\n",
    "            if cn.v < cn.p.v:\n",
    "                return cn ,pn\n",
    "            pn = cn\n",
    "            cn = cn.n\n",
    "        return None, None\n",
    "\n",
    "    def __sort(self, to_move):\n",
    "        cn = self.h\n",
    "        while cn:\n",
    "            if cn.v > to_move.v:\n",
    "                if cn == self.h:\n",
    "                    to_move.n = self.h\n",
    "                    to_move.p = None\n",
    "                    self.h.p = to_move\n",
    "                    self.h = to_move\n",
    "                else:\n",
    "                    to_move.n = cn\n",
    "                    to_move.p = cn.p\n",
    "                    cn.p.n = to_move\n",
    "                    cn.p = to_move\n",
    "                return None\n",
    "            cn = cn.n\n",
    "\n",
    "    def sort(self):\n",
    "        cn = True\n",
    "        while cn:\n",
    "            cn, pn = self.get_elem_to_move()\n",
    "            if not cn:\n",
    "                # if there is not element to move\n",
    "                # break the sorting loop\n",
    "                break\n",
    "            pn.n = cn.n\n",
    "            # if the end node is the current node\n",
    "            if cn.n:\n",
    "                cn.n.p = pn\n",
    "            self.__sort(cn)"
   ]
  },
  {
   "cell_type": "code",
   "execution_count": 247,
   "metadata": {},
   "outputs": [],
   "source": [
    "ll = LinkedList()"
   ]
  },
  {
   "cell_type": "code",
   "execution_count": 248,
   "metadata": {},
   "outputs": [],
   "source": [
    "ll.insert([1,6,3,2,4])\n",
    "ll.traverse()"
   ]
  },
  {
   "cell_type": "code",
   "execution_count": 249,
   "metadata": {},
   "outputs": [
    {
     "name": "stdout",
     "output_type": "stream",
     "text": [
      "1\n",
      "6\n",
      "3\n",
      "2\n",
      "4\n"
     ]
    }
   ],
   "source": [
    "1\n",
    "6\n",
    "3\n",
    "2\n",
    "4\n"
   ]
  },
  {
   "cell_type": "code",
   "execution_count": 250,
   "metadata": {},
   "outputs": [],
   "source": [
    "ll.sort()"
   ]
  },
  {
   "cell_type": "code",
   "execution_count": 251,
   "metadata": {},
   "outputs": [
    {
     "name": "stdout",
     "output_type": "stream",
     "text": [
      "1\n",
      "2\n",
      "3\n",
      "4\n",
      "6\n"
     ]
    }
   ],
   "source": [
    "ll.traverse()"
   ]
  },
  {
   "cell_type": "code",
   "execution_count": 191,
   "metadata": {},
   "outputs": [
    {
     "data": {
      "text/plain": [
       "False"
      ]
     },
     "execution_count": 191,
     "metadata": {},
     "output_type": "execute_result"
    }
   ],
   "source": [
    "True == (1,1)"
   ]
  },
  {
   "cell_type": "code",
   "execution_count": 161,
   "metadata": {},
   "outputs": [
    {
     "name": "stdout",
     "output_type": "stream",
     "text": [
      "hey\n"
     ]
    }
   ],
   "source": [
    "if (None,None):\n",
    "    print('hey')"
   ]
  },
  {
   "cell_type": "code",
   "execution_count": null,
   "metadata": {},
   "outputs": [],
   "source": []
  },
  {
   "cell_type": "code",
   "execution_count": null,
   "metadata": {},
   "outputs": [],
   "source": []
  }
 ],
 "metadata": {
  "kernelspec": {
   "display_name": "Python 3",
   "language": "python",
   "name": "python3"
  },
  "language_info": {
   "codemirror_mode": {
    "name": "ipython",
    "version": 3
   },
   "file_extension": ".py",
   "mimetype": "text/x-python",
   "name": "python",
   "nbconvert_exporter": "python",
   "pygments_lexer": "ipython3",
   "version": "3.7.6"
  }
 },
 "nbformat": 4,
 "nbformat_minor": 4
}
