{
 "cells": [
  {
   "cell_type": "code",
   "execution_count": 19,
   "metadata": {},
   "outputs": [],
   "source": []
  },
  {
   "cell_type": "code",
   "execution_count": 40,
   "metadata": {},
   "outputs": [
    {
     "data": {
      "text/plain": [
       "[['C', 'A', 'B', 'D'], ['C', 'A', 'D'], ['C', 'B', 'A', 'D'], ['C', 'B', 'D']]"
      ]
     },
     "execution_count": 40,
     "metadata": {},
     "output_type": "execute_result"
    }
   ],
   "source": [
    "graph = {\n",
    "    \"A\": [\"B\", \"C\", \"D\"],\n",
    "    \"B\": [\"A\", \"C\", \"D\"],\n",
    "    \"C\": [\"A\", \"B\"],\n",
    "    \"D\": [\"A\", \"B\"]\n",
    "}\n",
    "\n",
    "def f(from_, to, path=[]):\n",
    "    path = path + [from_]\n",
    "    \n",
    "    if from_ == to:\n",
    "        return [path]\n",
    "\n",
    "    paths=[]\n",
    "    for dest in graph[from_]:\n",
    "        if dest not in path:\n",
    "            ep = f(dest, to, path=path)\n",
    "            \n",
    "            for p in ep:\n",
    "                if p not in paths:\n",
    "                    paths.append(p)\n",
    "    \n",
    "    return paths\n",
    "\n",
    "f(\"C\", \"D\")"
   ]
  },
  {
   "cell_type": "code",
   "execution_count": null,
   "metadata": {},
   "outputs": [],
   "source": []
  }
 ],
 "metadata": {
  "kernelspec": {
   "display_name": "Python 3",
   "language": "python",
   "name": "python3"
  },
  "language_info": {
   "codemirror_mode": {
    "name": "ipython",
    "version": 3
   },
   "file_extension": ".py",
   "mimetype": "text/x-python",
   "name": "python",
   "nbconvert_exporter": "python",
   "pygments_lexer": "ipython3",
   "version": "3.7.6"
  }
 },
 "nbformat": 4,
 "nbformat_minor": 4
}
