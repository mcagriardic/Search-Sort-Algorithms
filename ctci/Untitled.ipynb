{
 "cells": [
  {
   "cell_type": "code",
   "execution_count": 93,
   "metadata": {},
   "outputs": [],
   "source": [
    "# iterator protocol\n",
    "class uc_iter():\n",
    "    def __init__(self, text):\n",
    "        self.text = text.upper()\n",
    "        self.index = 0\n",
    "    def __iter__(self):\n",
    "        return self\n",
    "    def __next__(self):\n",
    "        try:\n",
    "            result = self.text[self.index]\n",
    "        except IndexError:\n",
    "            raise StopIteration\n",
    "        self.index += 1\n",
    "        return result"
   ]
  },
  {
   "cell_type": "code",
   "execution_count": 96,
   "metadata": {},
   "outputs": [
    {
     "data": {
      "text/plain": [
       "defaultdict(<function __main__.<lambda>()>,\n",
       "            {'New': 1,\n",
       "             'to': 1,\n",
       "             'Python': 5,\n",
       "             'or': 2,\n",
       "             'choosing': 1,\n",
       "             'between': 1,\n",
       "             '2': 2,\n",
       "             'and': 1,\n",
       "             '3?': 1,\n",
       "             'Read': 1,\n",
       "             '3.': 1})"
      ]
     },
     "execution_count": 96,
     "metadata": {},
     "output_type": "execute_result"
    }
   ],
   "source": [
    "s = \"New to Python or choosing between Python 2 and Python 3? Read Python 2 or Python 3.\" \n",
    "s = s.split(\" \")\n",
    "# inefficient solution\n",
    "d = {w: s.count(w) for w in s}\n",
    "\n",
    "from collections import defaultdict\n",
    "# efficient solution\n",
    "d = defaultdict(lambda: 0)\n",
    "for w in s:\n",
    "    d[w] += 1"
   ]
  },
  {
   "cell_type": "code",
   "execution_count": 97,
   "metadata": {},
   "outputs": [
    {
     "ename": "SyntaxError",
     "evalue": "invalid syntax (<ipython-input-97-85d8723ebfd9>, line 1)",
     "output_type": "error",
     "traceback": [
      "\u001b[1;36m  File \u001b[1;32m\"<ipython-input-97-85d8723ebfd9>\"\u001b[1;36m, line \u001b[1;32m1\u001b[0m\n\u001b[1;33m    [y := f(x), y**2, y**3]\u001b[0m\n\u001b[1;37m       ^\u001b[0m\n\u001b[1;31mSyntaxError\u001b[0m\u001b[1;31m:\u001b[0m invalid syntax\n"
     ]
    }
   ],
   "source": [
    "[y := f(x), y**2, y**3]"
   ]
  },
  {
   "cell_type": "code",
   "execution_count": null,
   "metadata": {},
   "outputs": [],
   "source": []
  }
 ],
 "metadata": {
  "kernelspec": {
   "display_name": "Python 3",
   "language": "python",
   "name": "python3"
  },
  "language_info": {
   "codemirror_mode": {
    "name": "ipython",
    "version": 3
   },
   "file_extension": ".py",
   "mimetype": "text/x-python",
   "name": "python",
   "nbconvert_exporter": "python",
   "pygments_lexer": "ipython3",
   "version": "3.7.6"
  }
 },
 "nbformat": 4,
 "nbformat_minor": 4
}
