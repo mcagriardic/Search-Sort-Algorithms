{
 "cells": [
  {
   "cell_type": "code",
   "execution_count": 13,
   "metadata": {},
   "outputs": [],
   "source": [
    "def get_missing_number(ns):\n",
    "    # maxn -> max number\n",
    "    maxn = float('-inf')\n",
    "\n",
    "    # suml -> sum list\n",
    "    suml = 0\n",
    "    for n in ns:\n",
    "        if n > maxn:\n",
    "            maxn = n\n",
    "        suml += n\n",
    "\n",
    "    return int((maxn * (maxn + 1)) / 2 - suml)"
   ]
  },
  {
   "cell_type": "code",
   "execution_count": 14,
   "metadata": {},
   "outputs": [
    {
     "data": {
      "text/plain": [
       "7"
      ]
     },
     "execution_count": 14,
     "metadata": {},
     "output_type": "execute_result"
    }
   ],
   "source": [
    "get_missing_number([1,5,3,6,4,2,8,9,10])"
   ]
  },
  {
   "cell_type": "code",
   "execution_count": 17,
   "metadata": {},
   "outputs": [
    {
     "name": "stdout",
     "output_type": "stream",
     "text": [
      "[True, True]\n"
     ]
    }
   ],
   "source": [
    "# tcs -> test cases\n",
    "tcs = [\n",
    "    [1,5,3,6,4,2,8,9,10],\n",
    "    [1,5,4,3] \n",
    "]\n",
    "\n",
    "answers = [7, 2]\n",
    "\n",
    "print([get_missing_number(t) == a for t,a in zip(tcs, answers)])"
   ]
  },
  {
   "cell_type": "code",
   "execution_count": 106,
   "metadata": {},
   "outputs": [
    {
     "name": "stdout",
     "output_type": "stream",
     "text": [
      "True\n",
      "True\n",
      "True\n",
      "True\n"
     ]
    },
    {
     "data": {
      "text/plain": [
       "'\\n>> True\\n>> True\\n>> True\\n>> True\\n'"
      ]
     },
     "execution_count": 106,
     "metadata": {},
     "output_type": "execute_result"
    }
   ],
   "source": [
    "\"\"\"\n",
    "Cracking the Coding Interview\n",
    "Write methods for the following operations:\n",
    "subtraction,\n",
    "multiply,\n",
    "divide\n",
    "and only use the add operation (+)\n",
    "\"\"\"\n",
    "\n",
    "def substract(n1, n2):\n",
    "    minn = min(n1,n2)\n",
    "    maxn = max(n1,n2)\n",
    "    \n",
    "    res = 0\n",
    "    while minn != maxn:\n",
    "        minn += 1\n",
    "        res += 1\n",
    "        \n",
    "    return res\n",
    "\n",
    "def multiply(n1, n2):\n",
    "    res = 0\n",
    "    for i in range (n2):\n",
    "        res += n1\n",
    "        \n",
    "    return res\n",
    "\n",
    "def divide(n1, n2, res=\"\", dec=5):\n",
    "    if \".\" in res:\n",
    "        if len(res.split(\".\")[-1]) == dec:\n",
    "            return res\n",
    "    # tn -> temporary number            \n",
    "    tn = 0\n",
    "    quotient = 0\n",
    "    while tn + n2 <= n1:\n",
    "        quotient += 1\n",
    "        tn += n2\n",
    "\n",
    "    res += str(quotient)\n",
    "    if tn == n1:\n",
    "        return res\n",
    "    if \".\" not in res:\n",
    "        res += \".\"\n",
    "    \n",
    "    if n1 > quotient:\n",
    "        res = divide(\n",
    "            multiply(\n",
    "                10,\n",
    "                # remainder\n",
    "                substract(n1, tn)\n",
    "            ),\n",
    "            n2,\n",
    "            res=res,\n",
    "            dec=dec\n",
    "        )\n",
    "    return res\n",
    "\n",
    "print(substract(15, 3) == 12)\n",
    "print(multiply(8, 3) == 24)\n",
    "print(divide(15, 7) == '2.14285')\n",
    "print(divide(15, 3) == '5')\n",
    "\n",
    "\"\"\"\n",
    ">> True\n",
    ">> True\n",
    ">> True\n",
    ">> True\n",
    "\"\"\"\n"
   ]
  },
  {
   "cell_type": "code",
   "execution_count": 102,
   "metadata": {
    "scrolled": false
   },
   "outputs": [
    {
     "name": "stdout",
     "output_type": "stream",
     "text": [
      "True\n",
      "True\n",
      "True\n",
      "True\n"
     ]
    }
   ],
   "source": [
    "print(substract(15, 3) == 12)\n",
    "print(multiply(8, 3) == 24)\n",
    "print(divide(15, 7) == '2.14285')\n",
    "print(divide(15, 3) == '5')"
   ]
  },
  {
   "cell_type": "code",
   "execution_count": 35,
   "metadata": {},
   "outputs": [
    {
     "data": {
      "text/plain": [
       "32.333333333333336"
      ]
     },
     "execution_count": 35,
     "metadata": {},
     "output_type": "execute_result"
    }
   ],
   "source": [
    "97/3"
   ]
  },
  {
   "cell_type": "code",
   "execution_count": null,
   "metadata": {},
   "outputs": [],
   "source": []
  }
 ],
 "metadata": {
  "kernelspec": {
   "display_name": "Python 3",
   "language": "python",
   "name": "python3"
  },
  "language_info": {
   "codemirror_mode": {
    "name": "ipython",
    "version": 3
   },
   "file_extension": ".py",
   "mimetype": "text/x-python",
   "name": "python",
   "nbconvert_exporter": "python",
   "pygments_lexer": "ipython3",
   "version": "3.7.6"
  }
 },
 "nbformat": 4,
 "nbformat_minor": 4
}
