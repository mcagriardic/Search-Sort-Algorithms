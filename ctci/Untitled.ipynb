{
 "cells": [
  {
   "cell_type": "code",
   "execution_count": 175,
   "metadata": {},
   "outputs": [],
   "source": [
    "# cs -> character set\n",
    "def find_pattern(cs):\n",
    "    if len(cs) == 1:\n",
    "        return [cs]\n",
    "    \n",
    "    if cs[0] == cs[1]:\n",
    "        return [cs[0]]\n",
    "    \n",
    "    # p -> pattern\n",
    "    p = []\n",
    "    for i in range(1, len(cs)):\n",
    "        if not p or len(p) == 1:\n",
    "            p.append(cs[i-1])\n",
    "            continue\n",
    "        else:\n",
    "            if (\n",
    "                cs[i-1] == p[0]\n",
    "                and\n",
    "                cs[i] == p[1]\n",
    "            ):\n",
    "                return p\n",
    "            else:\n",
    "                p.append(cs[i-1])\n",
    "\n",
    "    if i + 1 == len(cs):\n",
    "        p.append(cs[i])\n",
    "    \n",
    "    return p\n",
    "\n",
    "def next_pattern_index(cs, p):\n",
    "    i = 0\n",
    "    j = 0\n",
    "    # pc -> pattern count\n",
    "    pc = 0\n",
    "    while i < len(cs):\n",
    "        if cs[i] == p[j]:\n",
    "            i += 1\n",
    "            j += 1\n",
    "            if j == len(p):\n",
    "                pc += 1\n",
    "                j = 0\n",
    "        else:\n",
    "            break\n",
    "    return i, (\"\".join(p), pc)\n",
    "\n",
    "def complete_pattern_to_standardised(cp):\n",
    "    # pd -> pattern dictionary\n",
    "    pd = {}\n",
    "    # -> char a idx\n",
    "    chr_aidx = 97\n",
    "    for k,_ in cp:\n",
    "        if k not in pd:\n",
    "            pd[k] = chr(chr_aidx)\n",
    "            chr_aidx += 1\n",
    "    \n",
    "    pattern = \"\"\n",
    "    # p -> pattern, oc -> occurrence count\n",
    "    for p, oc in cp:\n",
    "        pattern += pd[p] * oc\n",
    "    \n",
    "    return pattern\n",
    "    \n",
    "def compute_pattern(cs):\n",
    "    # cp - > complete pattern\n",
    "    cp = []\n",
    "    # npi -> next pattern index\n",
    "    npi = 0\n",
    "    # csl -> char set len\n",
    "    csl = len(cs)\n",
    "    # acc -> accumulator\n",
    "    acc = 0\n",
    "    while acc < len(cs):\n",
    "        p = find_pattern(cs[acc:csl])\n",
    "        # pp -> pattern prev, pc -> pattern count\n",
    "        npi, (pp, pc) = next_pattern_index(cs[acc:csl], p)\n",
    "        acc += npi\n",
    "        cp.append((pp, pc))\n",
    "        \n",
    "    return complete_pattern_to_standardised(cp)"
   ]
  },
  {
   "cell_type": "code",
   "execution_count": 176,
   "metadata": {},
   "outputs": [
    {
     "data": {
      "text/plain": [
       "['aabbc', 'aabbaab', 'a', 'a', '']"
      ]
     },
     "execution_count": 176,
     "metadata": {},
     "output_type": "execute_result"
    }
   ],
   "source": [
    "cs1 = \"caccacgogodef\"\n",
    "cs2 = \"caccacgogocaccacgo\"\n",
    "\n",
    "[compute_pattern(c) for c in [cs1, cs2]]"
   ]
  },
  {
   "cell_type": "code",
   "execution_count": 139,
   "metadata": {},
   "outputs": [
    {
     "data": {
      "text/plain": [
       "'a'"
      ]
     },
     "execution_count": 139,
     "metadata": {},
     "output_type": "execute_result"
    }
   ],
   "source": [
    "compute_pattern(cs3)"
   ]
  },
  {
   "cell_type": "code",
   "execution_count": 170,
   "metadata": {},
   "outputs": [],
   "source": [
    "cs = \"\"\n",
    "\n",
    "def compute_pattern(cs):\n",
    "    if len(cs) == 0:\n",
    "        return []\n",
    "\n",
    "    tc1 = [cs[0]]\n",
    "    tc2 = []\n",
    "    mi = 0\n",
    "    for i in range(1, len(cs)):\n",
    "        if cs[i] == tc1[mi]:\n",
    "            tc2.append(cs[i])\n",
    "            mi += 1\n",
    "            if tc1 == tc2:\n",
    "                return tc1\n",
    "        elif cs[i] != tc1[mi]:\n",
    "            tc1.append(cs[i])\n",
    "\n",
    "    return tc1\n",
    "        "
   ]
  },
  {
   "cell_type": "code",
   "execution_count": 171,
   "metadata": {},
   "outputs": [
    {
     "data": {
      "text/plain": [
       "[]"
      ]
     },
     "execution_count": 171,
     "metadata": {},
     "output_type": "execute_result"
    }
   ],
   "source": [
    "compute_pattern(cs)"
   ]
  },
  {
   "cell_type": "code",
   "execution_count": 300,
   "metadata": {},
   "outputs": [
    {
     "data": {
      "text/plain": [
       "'aab'"
      ]
     },
     "execution_count": 300,
     "metadata": {},
     "output_type": "execute_result"
    }
   ],
   "source": [
    "# \"\"\"\n",
    "# Compute the pattern of a given string in a standardised form\n",
    "# E.g.:\n",
    "# cs1 = \"caccacgogodef\" -> \"aabbc\"\n",
    "# cs2 = \"caccacgogocaccacgo\" -> \"aabbaab\"\n",
    "# \"\"\"\n",
    "\n",
    "# # cs -> character set\n",
    "# def find_pattern(cs):\n",
    "#     if len(cs) == 1:\n",
    "#         return [cs]\n",
    "    \n",
    "#     if cs[0] == cs[1]:\n",
    "#         return [cs[0]]\n",
    "    \n",
    "#     # p -> pattern\n",
    "#     p = []\n",
    "#     for i in range(1, len(cs)):\n",
    "#         if not p or len(p) == 1:\n",
    "#             p.append(cs[i-1])\n",
    "#             continue\n",
    "#         else:\n",
    "#             if (\n",
    "#                 cs[i-1] == p[0]\n",
    "#                 and\n",
    "#                 cs[i] == p[1]\n",
    "#             ):\n",
    "#                 return p\n",
    "#             else:\n",
    "#                 p.append(cs[i-1])\n",
    "\n",
    "#     if i + 1 == len(cs):\n",
    "#         p.append(cs[i])\n",
    "    \n",
    "#     return p\n",
    "\n",
    "# alternative to above find_pattern function\n",
    "# this one is more concise.\n",
    "def find_pattern(cs):\n",
    "    if len(cs) == 0:\n",
    "        return []\n",
    "\n",
    "    # p -> pattern\n",
    "    p = [cs[0]]\n",
    "    # tc -> temporary container\n",
    "    tc = []\n",
    "    # mi -> match index\n",
    "    mi = 0\n",
    "    for i in range(1, len(cs)):\n",
    "        if cs[i] == p[mi]:\n",
    "            tc.append(cs[i])\n",
    "            mi += 1\n",
    "            if p == tc:\n",
    "                return p\n",
    "        elif cs[i] != p[mi]:\n",
    "            p.append(cs[i])\n",
    "\n",
    "    return p\n",
    "\n",
    "def next_pattern_index(cs, p):\n",
    "    i = 0\n",
    "    j = 0\n",
    "    # pc -> pattern count\n",
    "    pc = 0\n",
    "    while i < len(cs):\n",
    "        if cs[i] == p[j]:\n",
    "            i += 1\n",
    "            j += 1\n",
    "            if j == len(p):\n",
    "                pc += 1\n",
    "                j = 0\n",
    "        else:\n",
    "            break\n",
    "    return i, (\"\".join(p), pc)\n",
    "\n",
    "def complete_pattern_to_standardised(cp):\n",
    "    # pd -> pattern dictionary\n",
    "    pd = {}\n",
    "    # -> char a idx\n",
    "    chr_aidx = 97\n",
    "    for k,_ in cp:\n",
    "        if k not in pd:\n",
    "            pd[k] = chr(chr_aidx)\n",
    "            chr_aidx += 1\n",
    "    \n",
    "    pattern = \"\"\n",
    "    # p -> pattern, oc -> occurrence count\n",
    "    for p, oc in cp:\n",
    "        pattern += pd[p] * oc\n",
    "    \n",
    "    return pattern\n",
    "    \n",
    "def compute_pattern(cs):\n",
    "    # cp - > complete pattern\n",
    "    cp = []\n",
    "    # npi -> next pattern index\n",
    "    npi = 0\n",
    "    # csl -> char set len\n",
    "    csl = len(cs)\n",
    "    # acc -> accumulator\n",
    "    acc = 0\n",
    "    while acc < len(cs):\n",
    "        p = find_pattern(cs[acc:csl])\n",
    "        # pp -> pattern prev, pc -> pattern count\n",
    "        npi, (pp, pc) = next_pattern_index(cs[acc:csl], p)\n",
    "        acc += npi\n",
    "        cp.append((pp, pc))\n",
    "        \n",
    "    return complete_pattern_to_standardised(cp)\n",
    "\n",
    "cs = \"cacacx\"\n",
    "\n",
    "compute_pattern(cs)"
   ]
  },
  {
   "cell_type": "code",
   "execution_count": 298,
   "metadata": {},
   "outputs": [],
   "source": [
    "tc = [\n",
    "    (\"catcatcatgogocat\", \"aaabba\"),\n",
    "    (\"catcatcacar\", \"aabb\"),\n",
    "    (\"catcaxcaca\", \"aabb\")\n",
    "]"
   ]
  },
  {
   "cell_type": "code",
   "execution_count": 295,
   "metadata": {},
   "outputs": [
    {
     "data": {
      "text/plain": [
       "[True, True, False]"
      ]
     },
     "execution_count": 295,
     "metadata": {},
     "output_type": "execute_result"
    }
   ],
   "source": [
    "[is_pattern_match(cs, pm) for cs, pm in tc]"
   ]
  },
  {
   "cell_type": "code",
   "execution_count": null,
   "metadata": {},
   "outputs": [],
   "source": []
  }
 ],
 "metadata": {
  "kernelspec": {
   "display_name": "Python 3",
   "language": "python",
   "name": "python3"
  },
  "language_info": {
   "codemirror_mode": {
    "name": "ipython",
    "version": 3
   },
   "file_extension": ".py",
   "mimetype": "text/x-python",
   "name": "python",
   "nbconvert_exporter": "python",
   "pygments_lexer": "ipython3",
   "version": "3.7.6"
  }
 },
 "nbformat": 4,
 "nbformat_minor": 4
}
