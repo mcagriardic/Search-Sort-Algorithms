{
 "cells": [
  {
   "cell_type": "code",
   "execution_count": 5,
   "metadata": {},
   "outputs": [],
   "source": [
    "def get_sum_and_unique_elems(ns):\n",
    "    sum_ = 0\n",
    "    set_ = set()\n",
    "    for n in ns:\n",
    "        sum_ += n\n",
    "        set_.add(n)\n",
    "    return sum_, set_\n",
    "\n",
    "def sum_swap(ns1, ns2):\n",
    "    sum1, set1 = get_sum_and_unique_elems(ns1)\n",
    "    sum2, set2 = get_sum_and_unique_elems(ns2)\n",
    "    equal_sum = (sum1 + sum2) / 2\n",
    "\n",
    "    for n1 in set1:\n",
    "        if equal_sum - (sum1 - n1) in set2:\n",
    "            yield n1, int(equal_sum - (sum1 - n1))"
   ]
  },
  {
   "cell_type": "code",
   "execution_count": 6,
   "metadata": {},
   "outputs": [
    {
     "data": {
      "text/plain": [
       "[(1, 3), (4, 6)]"
      ]
     },
     "execution_count": 6,
     "metadata": {},
     "output_type": "execute_result"
    }
   ],
   "source": [
    "list(sum_swap([4, 1, 2, 1, 1, 2], [3, 6, 3, 3]))"
   ]
  },
  {
   "cell_type": "code",
   "execution_count": null,
   "metadata": {},
   "outputs": [],
   "source": []
  },
  {
   "cell_type": "code",
   "execution_count": null,
   "metadata": {},
   "outputs": [],
   "source": []
  }
 ],
 "metadata": {
  "kernelspec": {
   "display_name": "Python 3",
   "language": "python",
   "name": "python3"
  },
  "language_info": {
   "codemirror_mode": {
    "name": "ipython",
    "version": 3
   },
   "file_extension": ".py",
   "mimetype": "text/x-python",
   "name": "python",
   "nbconvert_exporter": "python",
   "pygments_lexer": "ipython3",
   "version": "3.7.6"
  }
 },
 "nbformat": 4,
 "nbformat_minor": 4
}
