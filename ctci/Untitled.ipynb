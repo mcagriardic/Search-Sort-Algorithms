{
 "cells": [
  {
   "cell_type": "code",
   "execution_count": 31,
   "metadata": {},
   "outputs": [
    {
     "data": {
      "text/plain": [
       "'abcde3'"
      ]
     },
     "execution_count": 31,
     "metadata": {},
     "output_type": "execute_result"
    }
   ],
   "source": [
    "def compress_me(cs):\n",
    "    cs = \"\".join((cs, \" \"))\n",
    "    compressed = []\n",
    "    count = 1\n",
    "    for i in range(1, len(cs)):\n",
    "        if cs[i - 1] != cs[i]:\n",
    "            compressed.extend([cs[i - 1], str(count) if count != 1 else \"\"])\n",
    "            count = 1\n",
    "            continue\n",
    "        count += 1\n",
    "\n",
    "    return \"\".join(compressed)\n",
    "\n",
    "compress_me(\"abcdeee\")"
   ]
  },
  {
   "cell_type": "code",
   "execution_count": null,
   "metadata": {},
   "outputs": [],
   "source": []
  },
  {
   "cell_type": "code",
   "execution_count": null,
   "metadata": {},
   "outputs": [],
   "source": []
  }
 ],
 "metadata": {
  "kernelspec": {
   "display_name": "Python 3",
   "language": "python",
   "name": "python3"
  },
  "language_info": {
   "codemirror_mode": {
    "name": "ipython",
    "version": 3
   },
   "file_extension": ".py",
   "mimetype": "text/x-python",
   "name": "python",
   "nbconvert_exporter": "python",
   "pygments_lexer": "ipython3",
   "version": "3.7.6"
  }
 },
 "nbformat": 4,
 "nbformat_minor": 4
}
