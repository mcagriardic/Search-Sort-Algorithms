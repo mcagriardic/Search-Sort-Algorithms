{
 "cells": [
  {
   "cell_type": "code",
   "execution_count": 119,
   "metadata": {},
   "outputs": [],
   "source": [
    "def find_pattern(cs):\n",
    "    if len(cs) == 1:\n",
    "        return [cs]\n",
    "    \n",
    "    if cs[0] == cs[1]:\n",
    "        return [cs[0]]\n",
    "    \n",
    "    p = []\n",
    "    for i in range(1, len(cs)):\n",
    "        if not p or len(p) == 1:\n",
    "            p.append(cs[i-1])\n",
    "            continue\n",
    "        else:\n",
    "            if (\n",
    "                cs[i-1] == p[0]\n",
    "                and\n",
    "                cs[i] == p[1]\n",
    "            ):\n",
    "                return p\n",
    "            else:\n",
    "                p.append(cs[i-1])\n",
    "\n",
    "    if i + 1 == len(cs):\n",
    "        p.append(cs[i])\n",
    "    \n",
    "    return p\n",
    "\n",
    "def next_pattern_index(cs, p):\n",
    "    i = 0\n",
    "    j = 0\n",
    "    # pc -> pattern count\n",
    "    pc = 0\n",
    "    while i < len(cs):\n",
    "        if cs[i] == p[j]:\n",
    "            i += 1\n",
    "            j += 1\n",
    "            if j == len(p):\n",
    "                pc += 1\n",
    "                j = 0\n",
    "        else:\n",
    "            break\n",
    "    return i, (\"\".join(p), pc)\n",
    "\n",
    "def complete_pattern_to_standardised(cp):\n",
    "    # pd -> pattern dictionary\n",
    "    pd = {}\n",
    "    # -> char a idx\n",
    "    chr_aidx = 97\n",
    "    for k,_ in cp:\n",
    "        if k not in pd:\n",
    "            pd[k] = chr(chr_aidx)\n",
    "            chr_aidx += 1\n",
    "    \n",
    "    pattern = \"\"\n",
    "    # p -> pattern, oc -> occurrence count\n",
    "    for p, oc in cp:\n",
    "        pattern += pd[p] * oc\n",
    "    \n",
    "    return pattern\n",
    "    \n",
    "def compute_pattern(cs):\n",
    "    # cp - > complete pattern\n",
    "    cp = []\n",
    "    # npi -> next pattern index\n",
    "    npi = 0\n",
    "    # csl -> char set len\n",
    "    csl = len(cs)\n",
    "    # acc -> accumulator\n",
    "    acc = 0\n",
    "    while acc < len(cs):\n",
    "        p = find_pattern(cs[acc:csl])\n",
    "        # pp -> pattern prev, pc -> pattern count\n",
    "        npi, (pp, pc) = next_pattern_index(cs[acc:csl], p)\n",
    "        acc += npi\n",
    "        cp.append((pp, pc))\n",
    "        \n",
    "    return complete_pattern_to_standardised(cp)"
   ]
  },
  {
   "cell_type": "code",
   "execution_count": 128,
   "metadata": {},
   "outputs": [
    {
     "data": {
      "text/plain": [
       "['aabbc', 'aabbaab']"
      ]
     },
     "execution_count": 128,
     "metadata": {},
     "output_type": "execute_result"
    }
   ],
   "source": [
    "cs1 = \"ca\"\n",
    "\n",
    "[compute_pattern(c) for c in [cs1, cs2]]"
   ]
  },
  {
   "cell_type": "code",
   "execution_count": null,
   "metadata": {},
   "outputs": [],
   "source": []
  }
 ],
 "metadata": {
  "kernelspec": {
   "display_name": "Python 3",
   "language": "python",
   "name": "python3"
  },
  "language_info": {
   "codemirror_mode": {
    "name": "ipython",
    "version": 3
   },
   "file_extension": ".py",
   "mimetype": "text/x-python",
   "name": "python",
   "nbconvert_exporter": "python",
   "pygments_lexer": "ipython3",
   "version": "3.7.6"
  }
 },
 "nbformat": 4,
 "nbformat_minor": 4
}
