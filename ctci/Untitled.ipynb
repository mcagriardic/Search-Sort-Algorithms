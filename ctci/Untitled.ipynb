{
 "cells": [
  {
   "cell_type": "code",
   "execution_count": 63,
   "metadata": {},
   "outputs": [],
   "source": [
    "l = [[1,2], [4,3],[4,4]]"
   ]
  },
  {
   "cell_type": "code",
   "execution_count": 64,
   "metadata": {},
   "outputs": [],
   "source": [
    "import numpy as np"
   ]
  },
  {
   "cell_type": "code",
   "execution_count": 65,
   "metadata": {},
   "outputs": [
    {
     "data": {
      "text/plain": [
       "4"
      ]
     },
     "execution_count": 65,
     "metadata": {},
     "output_type": "execute_result"
    }
   ],
   "source": [
    "max(max(l))"
   ]
  },
  {
   "cell_type": "code",
   "execution_count": 66,
   "metadata": {},
   "outputs": [
    {
     "data": {
      "text/plain": [
       "[4, 4]"
      ]
     },
     "execution_count": 66,
     "metadata": {},
     "output_type": "execute_result"
    }
   ],
   "source": [
    "max(l)"
   ]
  },
  {
   "cell_type": "code",
   "execution_count": 67,
   "metadata": {},
   "outputs": [],
   "source": [
    "from functools import cmp_to_key"
   ]
  },
  {
   "cell_type": "code",
   "execution_count": 68,
   "metadata": {},
   "outputs": [
    {
     "data": {
      "text/plain": [
       "[4, 4]"
      ]
     },
     "execution_count": 68,
     "metadata": {},
     "output_type": "execute_result"
    }
   ],
   "source": [
    "import operator\n",
    "\n",
    "max(l)"
   ]
  },
  {
   "cell_type": "code",
   "execution_count": 70,
   "metadata": {},
   "outputs": [
    {
     "data": {
      "text/plain": [
       "[[0, 0, 0, 0], [0, 0, 0, 0], [0, 0, 0, 0], [0, 0, 0, 0]]"
      ]
     },
     "execution_count": 70,
     "metadata": {},
     "output_type": "execute_result"
    }
   ],
   "source": [
    "[[0] * 4 for s in range(4)]"
   ]
  },
  {
   "cell_type": "code",
   "execution_count": 85,
   "metadata": {},
   "outputs": [],
   "source": [
    "l = [[1,1], [2,2]]"
   ]
  },
  {
   "cell_type": "code",
   "execution_count": 87,
   "metadata": {},
   "outputs": [
    {
     "data": {
      "text/plain": [
       "array([[0, 0],\n",
       "       [1, 1]])"
      ]
     },
     "execution_count": 87,
     "metadata": {},
     "output_type": "execute_result"
    }
   ],
   "source": [
    "import numpy as np\n",
    "np.subtract(l, 1)"
   ]
  },
  {
   "cell_type": "code",
   "execution_count": 120,
   "metadata": {},
   "outputs": [
    {
     "data": {
      "text/plain": [
       "[2, 3]"
      ]
     },
     "execution_count": 120,
     "metadata": {},
     "output_type": "execute_result"
    }
   ],
   "source": [
    "\n",
    "import numpy as np\n",
    "\n",
    "#l -> line\n",
    "def standardise_coordinates(l):\n",
    "    return np.subtract(l, 1).tolist()\n",
    "\n",
    "def get_grid_edge(merged_coordinates):\n",
    "    return max(max(merged_coordinates)) + 1\n",
    "\n",
    "def create_line_coordinates_util(axis_s, axis_e, grid_edge):\n",
    "    if axis_s == axis_e:\n",
    "        return [axis_s] * grid_edge\n",
    "    return [c for c in range(axis_s, axis_e + 1)]\n",
    "\n",
    "def create_line_coordinates(l, grid_edge):\n",
    "    coordinates = []\n",
    "    xs, xe = l[0]\n",
    "    ys, ye = l[1]\n",
    "    x = create_line_coordinates_util(xs, xe, grid_edge)\n",
    "    y = create_line_coordinates_util(ys, ye, grid_edge)\n",
    "    return list(zip(x, y))\n",
    "\n",
    "def has_common_coordinate(l1, l2):\n",
    "    for c1 in l1:\n",
    "        for c2 in l2:\n",
    "            if c1 == c2:\n",
    "                return np.add(c1, 1).tolist()\n",
    "    return -1\n",
    "\n",
    "def are_lines_overlap(l1, l2):\n",
    "    l1,l2 = [standardise_coordinates(l) for l in [l1, l2]]\n",
    "    grid_edge = get_grid_edge(l1 + l2)\n",
    "    l1 = create_line_coordinates(l1, grid_edge)\n",
    "    l2 = create_line_coordinates(l2, grid_edge)\n",
    "    return has_common_coordinate(l1, l2)\n",
    "\n",
    "are_lines_overlap([[2, 2], [1, 4]], [[1, 4], [3, 3]])\n"
   ]
  },
  {
   "cell_type": "code",
   "execution_count": 132,
   "metadata": {},
   "outputs": [
    {
     "data": {
      "text/plain": [
       "({2}, {3})"
      ]
     },
     "execution_count": 132,
     "metadata": {},
     "output_type": "execute_result"
    }
   ],
   "source": []
  },
  {
   "cell_type": "code",
   "execution_count": 131,
   "metadata": {},
   "outputs": [
    {
     "data": {
      "text/plain": [
       "{3}"
      ]
     },
     "execution_count": 131,
     "metadata": {},
     "output_type": "execute_result"
    }
   ],
   "source": []
  },
  {
   "cell_type": "code",
   "execution_count": 146,
   "metadata": {},
   "outputs": [],
   "source": [
    "def are_lines_overlap_alt(l1, l2):\n",
    "    x1, y1 = l1\n",
    "    x2, y2 = l2\n",
    "    \n",
    "    x1s, x1e = l1[0]\n",
    "    y1s, y1e = l1[1]\n",
    "\n",
    "    x2s, x2e = l2[0]\n",
    "    y2s, y2e = l2[1]\n",
    "    \n",
    "    return list(zip(\n",
    "        set(range(x1s, x1e + 1)) & set(range(x2s, x2e + 1)),\n",
    "        set(range(y1s, y1e + 1)) & set(range(y2s, y2e + 1))\n",
    "    ))"
   ]
  },
  {
   "cell_type": "code",
   "execution_count": 149,
   "metadata": {},
   "outputs": [
    {
     "data": {
      "text/plain": [
       "[(2, 3)]"
      ]
     },
     "execution_count": 149,
     "metadata": {},
     "output_type": "execute_result"
    }
   ],
   "source": [
    "are_lines_overlap_alt([[2, 2], [1, 4]], [[1, 4], [3, 3]])\n"
   ]
  },
  {
   "cell_type": "code",
   "execution_count": 150,
   "metadata": {},
   "outputs": [],
   "source": [
    "def replace_whitesape(cs):\n",
    "    return cs.replace(\" \", \"%20\")"
   ]
  },
  {
   "cell_type": "code",
   "execution_count": 152,
   "metadata": {},
   "outputs": [
    {
     "data": {
      "text/plain": [
       "'Hello%20my%20name%20is%20John'"
      ]
     },
     "execution_count": 152,
     "metadata": {},
     "output_type": "execute_result"
    }
   ],
   "source": [
    "replace_whitesape(\"Hello my name is John\")"
   ]
  },
  {
   "cell_type": "code",
   "execution_count": 169,
   "metadata": {},
   "outputs": [],
   "source": [
    "def calculate_minute_angle(minute):\n",
    "    return (360 / 60) * minute\n",
    "\n",
    "def calculate_hour_angle(hour, minute):\n",
    "    return (360 / 12) * hour +  (minute / 60) * 30\n",
    "\n",
    "def get_angle_between(hour, minute):\n",
    "    minute_angle = calculate_minute_angle(minute)\n",
    "    hour_angle = calculate_hour_angle(hour, minute)\n",
    "\n",
    "    return abs(hour_angle - minute_angle)"
   ]
  },
  {
   "cell_type": "code",
   "execution_count": 209,
   "metadata": {},
   "outputs": [
    {
     "data": {
      "text/plain": [
       "21.0"
      ]
     },
     "execution_count": 209,
     "metadata": {},
     "output_type": "execute_result"
    }
   ],
   "source": [
    "get_angle_between(7, 42)"
   ]
  },
  {
   "cell_type": "code",
   "execution_count": 235,
   "metadata": {},
   "outputs": [],
   "source": [
    "paragraph = \"\"\"\n",
    "The Cecil B. DeMille Award is an honorary Golden Globe Award bestowed by the Hollywood \n",
    "Foreign Press Association for outstanding contributions to the world of \n",
    "entertainment. The HFPA board of directors selects the honorees from a variety \n",
    "of actors, directors, writers and producers who have made a significant mark in \n",
    "the film industry. It was first presented at the 9th Golden Globe Awards ceremony \n",
    "in February 1952 and is named in honor of its first recipient, director Cecil B. \n",
    "DeMille. The award has been presented annually since 1952, with exceptions \n",
    "being 1976 and 2008.\n",
    "\"\"\"\n",
    "\n",
    "from collections import defaultdict\n",
    "\n",
    "def count_words(paragraph):\n",
    "    word_count = defaultdict(lambda: 0)\n",
    "    paragraph = paragraph.split(\" \")\n",
    "    for w in paragraph:\n",
    "        w = w.replace(\"\\n\", \"\")\n",
    "        if w[-1] in (\",\", \".\"):\n",
    "            w = w[:-1]\n",
    "        word_count[w] += 1\n",
    "    return word_count"
   ]
  },
  {
   "cell_type": "code",
   "execution_count": 236,
   "metadata": {
    "scrolled": true
   },
   "outputs": [
    {
     "data": {
      "text/plain": [
       "defaultdict(<function __main__.count_words.<locals>.<lambda>()>,\n",
       "            {'The': 3,\n",
       "             'Cecil': 2,\n",
       "             'B': 2,\n",
       "             'DeMille': 2,\n",
       "             'Award': 2,\n",
       "             'is': 2,\n",
       "             'an': 1,\n",
       "             'honorary': 1,\n",
       "             'Golden': 2,\n",
       "             'Globe': 2,\n",
       "             'bestowed': 1,\n",
       "             'by': 1,\n",
       "             'the': 5,\n",
       "             'Hollywood': 1,\n",
       "             'Foreign': 1,\n",
       "             'Press': 1,\n",
       "             'Association': 1,\n",
       "             'for': 1,\n",
       "             'outstanding': 1,\n",
       "             'contributions': 1,\n",
       "             'to': 1,\n",
       "             'world': 1,\n",
       "             'of': 4,\n",
       "             'entertainment': 1,\n",
       "             'HFPA': 1,\n",
       "             'board': 1,\n",
       "             'directors': 2,\n",
       "             'selects': 1,\n",
       "             'honorees': 1,\n",
       "             'from': 1,\n",
       "             'a': 2,\n",
       "             'variety': 1,\n",
       "             'actors': 1,\n",
       "             'writers': 1,\n",
       "             'and': 3,\n",
       "             'producers': 1,\n",
       "             'who': 1,\n",
       "             'have': 1,\n",
       "             'made': 1,\n",
       "             'significant': 1,\n",
       "             'mark': 1,\n",
       "             'in': 3,\n",
       "             'film': 1,\n",
       "             'industry': 1,\n",
       "             'It': 1,\n",
       "             'was': 1,\n",
       "             'first': 2,\n",
       "             'presented': 2,\n",
       "             'at': 1,\n",
       "             '9th': 1,\n",
       "             'Awards': 1,\n",
       "             'ceremony': 1,\n",
       "             'February': 1,\n",
       "             '1952': 2,\n",
       "             'named': 1,\n",
       "             'honor': 1,\n",
       "             'its': 1,\n",
       "             'recipient': 1,\n",
       "             'director': 1,\n",
       "             'award': 1,\n",
       "             'has': 1,\n",
       "             'been': 1,\n",
       "             'annually': 1,\n",
       "             'since': 1,\n",
       "             'with': 1,\n",
       "             'exceptions': 1,\n",
       "             'being': 1,\n",
       "             '1976': 1,\n",
       "             '2008': 1})"
      ]
     },
     "execution_count": 236,
     "metadata": {},
     "output_type": "execute_result"
    }
   ],
   "source": [
    "count_words(paragraph)"
   ]
  },
  {
   "cell_type": "code",
   "execution_count": null,
   "metadata": {},
   "outputs": [],
   "source": []
  }
 ],
 "metadata": {
  "kernelspec": {
   "display_name": "Python 3",
   "language": "python",
   "name": "python3"
  },
  "language_info": {
   "codemirror_mode": {
    "name": "ipython",
    "version": 3
   },
   "file_extension": ".py",
   "mimetype": "text/x-python",
   "name": "python",
   "nbconvert_exporter": "python",
   "pygments_lexer": "ipython3",
   "version": "3.7.6"
  }
 },
 "nbformat": 4,
 "nbformat_minor": 4
}
