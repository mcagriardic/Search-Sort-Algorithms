{
 "cells": [
  {
   "cell_type": "markdown",
   "metadata": {},
   "source": [
    "# Chapter 1 - Arrays and Strings"
   ]
  },
  {
   "cell_type": "markdown",
   "metadata": {},
   "source": [
    "## 1. Question:\n",
    "\n",
    "Is Unique: Implement an algorithm to determine if a string has all unique characters. What if you\n",
    "cannot use additional data structures?"
   ]
  },
  {
   "cell_type": "code",
   "execution_count": 21,
   "metadata": {},
   "outputs": [],
   "source": [
    "str_test = \"test\"\n",
    "\n",
    "def is_unique(str_test):\n",
    "    look_up = list(range(2**8))\n",
    "    \n",
    "    for char in str_test:\n",
    "        if look_up[ord(char)] < 0:\n",
    "            return False\n",
    "        look_up[ord(char)] *= -1\n",
    "        \n",
    "    return True"
   ]
  },
  {
   "cell_type": "code",
   "execution_count": 22,
   "metadata": {},
   "outputs": [
    {
     "data": {
      "text/plain": [
       "False"
      ]
     },
     "execution_count": 22,
     "metadata": {},
     "output_type": "execute_result"
    }
   ],
   "source": [
    "is_unique(\"test\")"
   ]
  },
  {
   "cell_type": "markdown",
   "metadata": {},
   "source": [
    "----\n",
    "Points that were missed:\n",
    "\n",
    "1. We can also immediately return false if the string length exceeds the number of unique characters in the alphabet. After all, you can't form a string of 280 unique characters out of a 128-character alphabet.\n",
    "\n",
    "        if ord(char) > 2**8:\n",
    "            return -3\n",
    "            \n",
    "2. Instead of generating an array using range, one can use < [True] * 2**8 > to generate a list of Trues or Falses. Which then can be used as a check array.\n",
    "\n",
    "Question to ask:\n",
    "\n",
    "1. But vector usage, should i know this?\n",
    "\n",
    "<br>\n",
    "If we can't use additional data structures, we can do the following:\n",
    "<br>\n",
    "1. Compare every character of the string to every other character of the string. This will take 0(nz ) time and0(1) space.\n",
    "<br>\n",
    "2. If we are allowed to modify the input string, we could sort the string in 0 ( n l o g ( n ) ) time and then linearly check the string for neighboring characters that are identical. Careful, though: many sorting algorithms take up extra space.\n",
    "<br>\n",
    "\n",
    "---"
   ]
  },
  {
   "cell_type": "markdown",
   "metadata": {},
   "source": [
    "# 2. Question\n",
    "\n",
    "Check Permutation: Given two strings, write a method to decide if one is a permutation of the\n",
    "other."
   ]
  },
  {
   "cell_type": "code",
   "execution_count": 64,
   "metadata": {},
   "outputs": [],
   "source": [
    "def is_permutation(chartset1, charset2):\n",
    "    comp_dict = {}\n",
    "\n",
    "    for char1 in charset1:\n",
    "        try:\n",
    "            comp_dict[char1] -= 1\n",
    "        except KeyError:\n",
    "            comp_dict[char1] = -1\n",
    "\n",
    "    for char2 in charset2:\n",
    "        try:\n",
    "            comp_dict[char2] += 1\n",
    "        except KeyError:\n",
    "            comp_dict[char2] = 1\n",
    "            \n",
    "#         if  comp_dict[char2] > 0:\n",
    "#             return False\n",
    "\n",
    "    neg = False\n",
    "    pos = False\n",
    "    for val in comp_dict.values():\n",
    "        if val < 0:\n",
    "            neg = True\n",
    "        elif val > 0:\n",
    "            pos = True\n",
    "\n",
    "        if neg and pos:\n",
    "            return False\n",
    "    \n",
    "    return True"
   ]
  },
  {
   "cell_type": "code",
   "execution_count": 65,
   "metadata": {},
   "outputs": [
    {
     "data": {
      "text/plain": [
       "False"
      ]
     },
     "execution_count": 65,
     "metadata": {},
     "output_type": "execute_result"
    }
   ],
   "source": [
    "charset1 = \"dogt\"\n",
    "charset2 = \"godq\"\n",
    "\n",
    "is_permutation(charset1, charset2)"
   ]
  },
  {
   "cell_type": "code",
   "execution_count": 66,
   "metadata": {},
   "outputs": [
    {
     "data": {
      "text/plain": [
       "True"
      ]
     },
     "execution_count": 66,
     "metadata": {},
     "output_type": "execute_result"
    }
   ],
   "source": [
    "charset1 = \"dogt\"\n",
    "charset2 = \"god\"\n",
    "\n",
    "is_permutation(charset1, charset2)"
   ]
  },
  {
   "cell_type": "code",
   "execution_count": 67,
   "metadata": {},
   "outputs": [
    {
     "data": {
      "text/plain": [
       "True"
      ]
     },
     "execution_count": 67,
     "metadata": {},
     "output_type": "execute_result"
    }
   ],
   "source": [
    "charset1 = \"dog\"\n",
    "charset2 = \"god\"\n",
    "\n",
    "is_permutation(charset1, charset2)"
   ]
  },
  {
   "cell_type": "markdown",
   "metadata": {},
   "source": [
    "---\n",
    "\n",
    "I have misunderstood the question here due to not knowing the definition of permutation which is:\n",
    "\n",
    "**Permutation:** \"a permutation of a set is, loosely speaking, an arrangement of its members into a sequence or linear order\"\n",
    "\n",
    "However, the above code not only finds if the charsets are the permutation of one another, but it can also find if one can be generated by using the characters on the other. For example; with \"dogt\", one can still write \"god\" with leaving the\"t\" out.\n",
    "\n",
    "---"
   ]
  },
  {
   "cell_type": "markdown",
   "metadata": {},
   "source": [
    "# 3. Question:\n",
    "\n",
    "**URLify**: Write a method to replace all spaces in a string with '%20'. You may assume that the string\n",
    "has sufficient space at the end to hold the additional characters, and that you are given the \"true\"\n",
    "length of the string. (Note: If implementing in Java, please use a character array so that you can\n",
    "perform this operation in place.)\n",
    "<br>\n",
    "<br>\n",
    "EXAMPLE\n",
    "<br>\n",
    "Input: \"Mr 3ohn Smith\"\n",
    "<br>\n",
    "Output: \"Mr%203ohn%20Smith\""
   ]
  },
  {
   "cell_type": "code",
   "execution_count": 5,
   "metadata": {},
   "outputs": [],
   "source": [
    "def replace_whitespace(charset):\n",
    "    new_string = []\n",
    "    for char in charset:\n",
    "        if char == \" \":\n",
    "            new_string.append(\"%20\")\n",
    "        else:\n",
    "            new_string.append(char)\n",
    "            \n",
    "    return \"\".join(new_string)"
   ]
  },
  {
   "cell_type": "code",
   "execution_count": 6,
   "metadata": {},
   "outputs": [
    {
     "data": {
      "text/plain": [
       "'Mr%203ohn%20Smith'"
      ]
     },
     "execution_count": 6,
     "metadata": {},
     "output_type": "execute_result"
    }
   ],
   "source": [
    "replace_whitespace(\"Mr 3ohn Smith\")"
   ]
  },
  {
   "cell_type": "markdown",
   "metadata": {},
   "source": [
    "# 4.Question:\n",
    "\n",
    "**Palindrome Permutation:** Given a string, write a function to check if it is a permutation of a palindrome.\n",
    "A palindrome is a word or phrase that is the same forwards and backwards. A permutation\n",
    "is a rearrangement of letters. The palindrome does not need to be limited to just dictionary words.\n",
    "<br>\n",
    "<br>\n",
    "EXAMPLE\n",
    "<br>\n",
    "Input: Tact Coa\n",
    "<br>\n",
    "Output: True (permutations: \"taco cat\", \"atco e t a \" , etc.)"
   ]
  },
  {
   "cell_type": "code",
   "execution_count": 141,
   "metadata": {},
   "outputs": [],
   "source": [
    "def is_palindrome_permutation(charset):\n",
    "    \n",
    "    word_len = 1\n",
    "    even_cnt = 0\n",
    "    odd_cnt = 0\n",
    "    palindrome_dct = {}\n",
    "    for char in charset:\n",
    "        \n",
    "        if char != \" \":\n",
    "            word_len += 1\n",
    "            \n",
    "            try:\n",
    "                palindrome_dct[char] += 1\n",
    "                \n",
    "                if palindrome_dct[char] % 2 == 0:\n",
    "                    even_cnt += 1\n",
    "                    odd_cnt -= 1\n",
    "                else:\n",
    "                    even_cnt -= 1\n",
    "                    odd_cnt += 1\n",
    "                    \n",
    "            except KeyError:\n",
    "                palindrome_dct[char] = 1\n",
    "                odd_cnt += 1\n",
    "                \n",
    "    if word_len % 2 == 0:\n",
    "        if odd_cnt == 1:\n",
    "            return True\n",
    "        else:\n",
    "            return False\n",
    "    else:\n",
    "        if odd_cnt == 0:\n",
    "            return True\n",
    "        else:\n",
    "            return False"
   ]
  },
  {
   "cell_type": "code",
   "execution_count": 147,
   "metadata": {},
   "outputs": [
    {
     "data": {
      "text/plain": [
       "False"
      ]
     },
     "execution_count": 147,
     "metadata": {},
     "output_type": "execute_result"
    }
   ],
   "source": [
    "is_palindrome_permutation(\"taco cat\")"
   ]
  },
  {
   "cell_type": "markdown",
   "metadata": {},
   "source": [
    "----\n",
    "Points that were missed:\n",
    "\n",
    "1. Checking even count is unnecessary as the limitation here lies with the odd count.\n",
    "\n",
    "---"
   ]
  },
  {
   "cell_type": "markdown",
   "metadata": {},
   "source": [
    "# 5.Question:\n",
    "\n",
    "**One Away**: There are three types of edits that can be performed on strings: insert a character,\n",
    "remove a character, or replace a character. Given two strings, write a function to check if they are\n",
    "one edit (or zero edits) away.\n",
    "<br>\n",
    "<br>\n",
    "EXAMPLE\n",
    "<br>\n",
    "pales , pale -> true\n",
    "<br>\n",
    "pale , bale -> true\n",
    "<br>\n",
    "pale , bake -> false\n",
    "<br>"
   ]
  },
  {
   "cell_type": "code",
   "execution_count": 7,
   "metadata": {},
   "outputs": [],
   "source": [
    "def is_one_change_away(charset1, charset2):\n",
    "    char_dct = {}\n",
    "    \n",
    "    for char1 in charset1:\n",
    "        try:\n",
    "            char_dct[char1] += 1\n",
    "        except KeyError:\n",
    "            char_dct[char1] = 1\n",
    "    \n",
    "    for char2 in charset2:\n",
    "        try:\n",
    "            char_dct[char2] -= 1\n",
    "        except KeyError:\n",
    "            char_dct[char2] = -1\n",
    "            \n",
    "    pos = 0\n",
    "    neg = 0\n",
    "    \n",
    "    for val in char_dct.values():\n",
    "        if val < 0:\n",
    "            neg += 1\n",
    "        elif val > 0:\n",
    "            pos += 1\n",
    "\n",
    "    if (\n",
    "        (neg == 1 and pos == 0) # insertion or removal\n",
    "        or (pos == 1 and neg == 0) # insertion or removal\n",
    "        or (pos == 1 and neg == 1) # replacement\n",
    "    ):\n",
    "        return True\n",
    "    \n",
    "    return False\n",
    "    "
   ]
  },
  {
   "cell_type": "code",
   "execution_count": 10,
   "metadata": {},
   "outputs": [
    {
     "data": {
      "text/plain": [
       "True"
      ]
     },
     "execution_count": 10,
     "metadata": {},
     "output_type": "execute_result"
    }
   ],
   "source": [
    "is_one_change_away(\"pales\", \"pale\")"
   ]
  },
  {
   "cell_type": "markdown",
   "metadata": {},
   "source": [
    "---\n",
    "\n",
    "Points that were missed:\n",
    "\n",
    "1. The length of strings can be checked and if the absolute difference is greater than 1, it will definetely take more than 1 step. However, the reason i didn't include this is in my code is; even when len is called, ~~it does a loop in the backend~~ **WRONG, len() in python is O(1) complexity**. CTCI also uses inbuilt length method of Java in order to get the length.\n",
    "\n",
    "**Side Note:** This operation does not increase the time complexity of O(N), this just provides an early exit.\n",
    "\n",
    "---"
   ]
  },
  {
   "cell_type": "markdown",
   "metadata": {},
   "source": [
    "# 6. Question:\n",
    "\n",
    "**String Compression:** Implement a method to perform basic string compression using the counts\n",
    "of repeated characters. For example, the string aabcccccaaa would become a2blc5a3, If the\n",
    "\"compressed\" string would not become smaller than the original string, your method should return\n",
    "the original string. You can assume the string has only uppercase and lowercase letters (a - z)."
   ]
  },
  {
   "cell_type": "code",
   "execution_count": 90,
   "metadata": {},
   "outputs": [],
   "source": [
    "def compress_charset(charset1):\n",
    "    l = len(charset1)\n",
    "\n",
    "    compressed = []\n",
    "    acc = 0\n",
    "    for idx in range(l - 1):\n",
    "        acc += 1\n",
    "        if charset1[idx + 1] != charset1[idx]:\n",
    "            ## compressed += [charset1[idx], str(acc)]\n",
    "            compressed.extend([charset1[idx], str(acc)])\n",
    "            acc = 0\n",
    "        \n",
    "    compressed.extend([charset1[idx + 1], str(acc + 1)])   \n",
    "    ## compressed += [charset1[idx + 1], str(acc + 1)]\n",
    "\n",
    "    if len(compressed) > l:\n",
    "        return charset1\n",
    "    else:\n",
    "        return \"\".join(compressed)"
   ]
  },
  {
   "cell_type": "code",
   "execution_count": 89,
   "metadata": {},
   "outputs": [
    {
     "data": {
      "text/plain": [
       "'a2b1c5a3'"
      ]
     },
     "execution_count": 89,
     "metadata": {},
     "output_type": "execute_result"
    }
   ],
   "source": [
    "compress_charset(\"aabcccccaaa\")"
   ]
  },
  {
   "cell_type": "markdown",
   "metadata": {},
   "source": [
    "---\n",
    "\n",
    "Research points:\n",
    "\n",
    "**String concat:**\n",
    "1. if one choses to append a string by using mathematical operator +; (str += any_charset), the complexity becomes O(n^2). However, the best time complexity is achieved by using str.join(lst_obj) function - O(N).\n",
    "\n",
    "https://stackoverflow.com/questions/37133547/time-complexity-of-string-concatenation-in-python for the complexity of str.join(lst_obj).\n",
    "https://wiki.python.org/moin/TimeComplexity for the time complexity of python functions.\n",
    "\n",
    "\n",
    "**Appending an element to a list:**\n",
    "2. The complexity of merging 2 lists with using mathematical operator +; (m and n) is O(m + n), whereas if one prefers to use append, the complexity goes down to O(1).\n",
    "\n",
    "https://stackoverflow.com/questions/29197811/runtime-of-merging-two-lists-in-python for why M = M + N is not the best way to merge lists. from the code -> compressed += [charset1[idx], str(acc)]\n",
    "\n",
    "If one is not content with adding .append() methods for every element, .extend() can be used for with the same time complexity (please not that it is O(k) where k is the number of items appended). from the code -> compressed.extend([charset1[idx + 1], str(acc + 1)])\n",
    "\n",
    "---"
   ]
  },
  {
   "cell_type": "markdown",
   "metadata": {},
   "source": [
    "# 7. Question:\n",
    "\n",
    "Rotate Matrix: Given an image represented by an NxN matrix, where each pixel in the image is 4 bytes, write a method to rotate the image by 90 degrees. Can you do this in place?"
   ]
  },
  {
   "cell_type": "code",
   "execution_count": 123,
   "metadata": {},
   "outputs": [],
   "source": [
    "def rotate_image(image, N):\n",
    "    image_rotated = []\n",
    "\n",
    "    for row in range(N):\n",
    "        image_rotated.append(list(range(N)))\n",
    "    \n",
    "    for row in range(N):\n",
    "        new_col = (N - 1) - row\n",
    "        for col in range(N):\n",
    "            new_row = col\n",
    "\n",
    "            image_rotated[new_row][new_col] = image[row][col]\n",
    "    \n",
    "    return image_rotated"
   ]
  },
  {
   "cell_type": "code",
   "execution_count": 125,
   "metadata": {
    "scrolled": true
   },
   "outputs": [
    {
     "data": {
      "text/plain": [
       "[[7, 4, 1], [8, 5, 2], [9, 6, 3]]"
      ]
     },
     "execution_count": 125,
     "metadata": {},
     "output_type": "execute_result"
    }
   ],
   "source": [
    "# creating a temporary array replacement\n",
    "# This is not in place replacement!\n",
    "\n",
    "N = 3\n",
    "\n",
    "image = [\n",
    "    [1,2,3],\n",
    "    [4,5,6],\n",
    "    [7,8,9]\n",
    "]\n",
    "\n",
    "rotate_image(image, N)"
   ]
  },
  {
   "cell_type": "markdown",
   "metadata": {},
   "source": [
    "---\n",
    "\n",
    "The inplace solution is mathematically quite complicated. Will revisit at a later time.\n",
    "\n",
    "---"
   ]
  },
  {
   "cell_type": "markdown",
   "metadata": {},
   "source": [
    "# 8. Question:\n",
    "\n",
    "**Zero Matrix:** Write an algorithm such that if an element in an MxN matrix is 0, its entire row and column are set to 0."
   ]
  },
  {
   "cell_type": "code",
   "execution_count": 135,
   "metadata": {},
   "outputs": [],
   "source": [
    "matrix = [\n",
    "    [1,0,3],\n",
    "    [4,5,6],\n",
    "    [7,8,9]\n",
    "]"
   ]
  },
  {
   "cell_type": "code",
   "execution_count": 136,
   "metadata": {},
   "outputs": [],
   "source": [
    "def zero_matrix(matrix):\n",
    "    \n",
    "    N = len(matrix)\n",
    "    zeros_row = []\n",
    "    zeros_column = []\n",
    "    \n",
    "    for row in range(N):\n",
    "        for col in range(N):\n",
    "            if matrix[row][col] == 0:\n",
    "                zeros_row.append(row)\n",
    "                zeros_column.append(col)\n",
    "                \n",
    "    \n",
    "    for row in range(N):\n",
    "        if row in zeros_row:\n",
    "            for col in range(N):\n",
    "                matrix[row][col] = 0\n",
    "                \n",
    "    for col in range(N):\n",
    "        if col in zeros_column:\n",
    "            for row in range(N):\n",
    "                matrix[row][col] = 0\n",
    "    \n",
    "    return matrix"
   ]
  },
  {
   "cell_type": "code",
   "execution_count": 137,
   "metadata": {},
   "outputs": [
    {
     "data": {
      "text/plain": [
       "[[0, 0, 0], [4, 0, 6], [7, 0, 9]]"
      ]
     },
     "execution_count": 137,
     "metadata": {},
     "output_type": "execute_result"
    }
   ],
   "source": [
    "zero_matrix(matrix)"
   ]
  },
  {
   "cell_type": "markdown",
   "metadata": {},
   "source": [
    "---\n",
    "**Research points:**\n",
    "\n",
    "1. complexity of **in**\n",
    "operator:\n",
    "\n",
    "\"It depends entirely on the type of the container:\n",
    "- Hashing containers (dict, set) use the hash and are essentially O(1).\n",
    "- Typical sequences (list, tuple) are implemented as you guess and are O(n).\n",
    "- Trees would be average O(log n).\"\n",
    "\n",
    "https://stackoverflow.com/questions/13884177/complexity-of-in-operator-in-python\n",
    "\n",
    "\n",
    "---"
   ]
  },
  {
   "cell_type": "markdown",
   "metadata": {},
   "source": [
    "# 9. Question:\n",
    "\n",
    "Given two string s1 and s2 how will you check if s1 is a rotated version of s2 ?\n",
    "\n",
    "input: \"stackoverflow\"\n",
    "\n",
    "**TRUE:**\n",
    "<br>\n",
    "\"tackoverflows\"\n",
    "<br>\n",
    "\"ackoverflowst\"\n",
    "<br>\n",
    "\"overflowstack\"\n",
    "<br>\n",
    "\n",
    "**FALSE:**\n",
    "<br>\n",
    "\"stackoverflwo\"\n",
    "\n",
    "<br>\n",
    "<br>\n",
    "\n",
    "**CTCI** question:\n",
    "\n",
    "String Rotation; Assume you have a method is Substring which checks if one word is a substring\n",
    "of another. Given two strings, si and s2, write code to check if s2 is a rotation of si using only one\n",
    "call to is Substring (e.g.,\"waterbottle\"isa rotation of 'erbottlewat\") ."
   ]
  },
  {
   "cell_type": "code",
   "execution_count": 165,
   "metadata": {},
   "outputs": [],
   "source": [
    "org = \"stacksoverflow\"\n",
    "test = \"overflowstacks\"\n",
    "\n",
    "def is_rotation(org, test):\n",
    "    if len(org) != len(test):\n",
    "        return False\n",
    "\n",
    "    str_len = len(org)\n",
    "\n",
    "    match = False\n",
    "    m_index = None\n",
    "    for idxorg in range(str_len):\n",
    "        for idxtest in range(str_len):\n",
    "            if org[idxorg] == test[idxtest]:\n",
    "                if not match:\n",
    "                    m_index = idxtest\n",
    "                match = True\n",
    "            else:\n",
    "                match = False\n",
    "\n",
    "    return org[str_len - m_index - 1:] == test[:m_index + 1]"
   ]
  },
  {
   "cell_type": "code",
   "execution_count": 163,
   "metadata": {},
   "outputs": [
    {
     "data": {
      "text/plain": [
       "True"
      ]
     },
     "execution_count": 163,
     "metadata": {},
     "output_type": "execute_result"
    }
   ],
   "source": [
    "is_rotation(org, test)"
   ]
  },
  {
   "cell_type": "markdown",
   "metadata": {},
   "source": [
    "---\n",
    "\n",
    "For the code above (function is_rotation) the complexity is still linear although there is a nested for loop. The reason for that is. As soon as the rotation point is found, the loop index loops through the characters in both strings. Up to the rotation point, however, only the characters in the inner loop are looped. Therefore, the complexity here where length of the string is N, and the rotation point is M:\n",
    "\n",
    "<br>\n",
    "O(M + (N-M) * 2) - > O(N) after omitting the constants\n",
    "\n",
    "---"
   ]
  },
  {
   "cell_type": "markdown",
   "metadata": {},
   "source": [
    "**CTCI question answer:**\n",
    "\n",
    "see if s2 is a substring of s1 concatenated with s1"
   ]
  },
  {
   "cell_type": "code",
   "execution_count": 172,
   "metadata": {},
   "outputs": [],
   "source": [
    "org = \"stacksoverflow\"\n",
    "test = \"overflowstacks\"\n",
    "\n",
    "test_false = \"oevrflowstacks\""
   ]
  },
  {
   "cell_type": "code",
   "execution_count": 169,
   "metadata": {},
   "outputs": [
    {
     "data": {
      "text/plain": [
       "'stacksoverflowstacksoverflow'"
      ]
     },
     "execution_count": 169,
     "metadata": {},
     "output_type": "execute_result"
    }
   ],
   "source": [
    "org + org "
   ]
  },
  {
   "cell_type": "code",
   "execution_count": 170,
   "metadata": {},
   "outputs": [
    {
     "data": {
      "text/plain": [
       "False"
      ]
     },
     "execution_count": 170,
     "metadata": {},
     "output_type": "execute_result"
    }
   ],
   "source": [
    "test in org"
   ]
  },
  {
   "cell_type": "code",
   "execution_count": 171,
   "metadata": {},
   "outputs": [
    {
     "data": {
      "text/plain": [
       "True"
      ]
     },
     "execution_count": 171,
     "metadata": {},
     "output_type": "execute_result"
    }
   ],
   "source": [
    "test in org + org"
   ]
  },
  {
   "cell_type": "code",
   "execution_count": 173,
   "metadata": {},
   "outputs": [
    {
     "data": {
      "text/plain": [
       "False"
      ]
     },
     "execution_count": 173,
     "metadata": {},
     "output_type": "execute_result"
    }
   ],
   "source": [
    "test_false in org + org"
   ]
  }
 ],
 "metadata": {
  "kernelspec": {
   "display_name": "Python 3",
   "language": "python",
   "name": "python3"
  },
  "language_info": {
   "codemirror_mode": {
    "name": "ipython",
    "version": 3
   },
   "file_extension": ".py",
   "mimetype": "text/x-python",
   "name": "python",
   "nbconvert_exporter": "python",
   "pygments_lexer": "ipython3",
   "version": "3.7.6"
  }
 },
 "nbformat": 4,
 "nbformat_minor": 4
}
