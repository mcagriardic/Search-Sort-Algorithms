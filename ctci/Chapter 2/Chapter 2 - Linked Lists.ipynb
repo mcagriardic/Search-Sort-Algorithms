{
 "cells": [
  {
   "cell_type": "code",
   "execution_count": 38,
   "metadata": {},
   "outputs": [],
   "source": [
    "from random import randint\n",
    "\n",
    "class LinkedListNode(object):\n",
    "    \n",
    "    def __init__(self, val, prev_node=None, next_node=None):\n",
    "        self.val = val\n",
    "        self.prev_node = prev_node\n",
    "        self.next_node = next_node\n",
    "        \n",
    "    def __str__(self):\n",
    "        return str(self.val)\n",
    "\n",
    "\n",
    "class LinkedList(object):\n",
    "    \n",
    "    def __init__(self, values=None):\n",
    "        self.head = None\n",
    "        self.tail = None\n",
    "        if values is not None:\n",
    "            self.add_multiple(values)\n",
    "            \n",
    "    def __str__(self):\n",
    "        values = [str(node.val) for node in self]\n",
    "        return \"-> \".join(values)\n",
    "    \n",
    "    def __iter__(self):\n",
    "        current_node = self.head\n",
    "        while current_node:\n",
    "            yield current_node\n",
    "            current_node = current_node.next_node\n",
    "            \n",
    "    def __len__(self):\n",
    "        for len_, val in enumerate(self):\n",
    "            continue\n",
    "        return len_ + 1\n",
    "            \n",
    "    def add(self, val):\n",
    "        if not self.head:\n",
    "            self.head = self.tail = LinkedListNode(val)\n",
    "        else:\n",
    "            self.tail.next_node = LinkedListNode(val)\n",
    "            self.tail = self.tail.next_node\n",
    "    \n",
    "    def add_multiple(self, values):\n",
    "        for val in values:\n",
    "            self.add(val)\n",
    "            \n",
    "    def generate(self, n, min_, max_):\n",
    "        for count in range(n):\n",
    "            self.add(randint(min_, max_))"
   ]
  },
  {
   "cell_type": "code",
   "execution_count": 39,
   "metadata": {
    "scrolled": true
   },
   "outputs": [
    {
     "name": "stdout",
     "output_type": "stream",
     "text": [
      "69-> 55-> 20-> 90-> 81-> 25-> 63-> 37-> 21-> 77\n"
     ]
    }
   ],
   "source": [
    "ll = LinkedList()\n",
    "ll.generate(10, 0, 99)\n",
    "print(ll)"
   ]
  },
  {
   "cell_type": "code",
   "execution_count": 40,
   "metadata": {
    "scrolled": true
   },
   "outputs": [
    {
     "data": {
      "text/plain": [
       "10"
      ]
     },
     "execution_count": 40,
     "metadata": {},
     "output_type": "execute_result"
    }
   ],
   "source": [
    "len(ll)"
   ]
  }
 ],
 "metadata": {
  "kernelspec": {
   "display_name": "Python 3",
   "language": "python",
   "name": "python3"
  },
  "language_info": {
   "codemirror_mode": {
    "name": "ipython",
    "version": 3
   },
   "file_extension": ".py",
   "mimetype": "text/x-python",
   "name": "python",
   "nbconvert_exporter": "python",
   "pygments_lexer": "ipython3",
   "version": "3.7.6"
  }
 },
 "nbformat": 4,
 "nbformat_minor": 4
}
