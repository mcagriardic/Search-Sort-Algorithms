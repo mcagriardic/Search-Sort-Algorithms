{
 "cells": [
  {
   "cell_type": "code",
   "execution_count": 1,
   "metadata": {},
   "outputs": [],
   "source": [
    "from LinkedList import LinkedList"
   ]
  },
  {
   "cell_type": "code",
   "execution_count": null,
   "metadata": {},
   "outputs": [],
   "source": []
  },
  {
   "cell_type": "code",
   "execution_count": 2,
   "metadata": {},
   "outputs": [
    {
     "name": "stdout",
     "output_type": "stream",
     "text": [
      "2-> 4-> 2-> 0-> 0\n"
     ]
    }
   ],
   "source": [
    "ll = LinkedList()\n",
    "# ll.add_multiple(values=[2,5,2,3,5])\n",
    "ll.generate(5, 0, 5)\n",
    "print(ll)"
   ]
  },
  {
   "cell_type": "code",
   "execution_count": 3,
   "metadata": {},
   "outputs": [],
   "source": [
    "def remove_dupes(ll):   \n",
    "    current_node = ll.head\n",
    "    seen = set([current_node.val])\n",
    "    while current_node.next_node:\n",
    "        if current_node.next_node.val in seen:\n",
    "            current_node.next_node = current_node.next_node.next_node\n",
    "        else:\n",
    "            seen.add(current_node.next_node.val)\n",
    "            current_node = current_node.next_node\n",
    "\n",
    "    return ll"
   ]
  },
  {
   "cell_type": "code",
   "execution_count": 4,
   "metadata": {},
   "outputs": [
    {
     "name": "stdout",
     "output_type": "stream",
     "text": [
      "2-> 4-> 0\n"
     ]
    }
   ],
   "source": [
    "ll = remove_dupes(ll)\n",
    "print(ll)"
   ]
  },
  {
   "cell_type": "code",
   "execution_count": null,
   "metadata": {},
   "outputs": [],
   "source": [
    "# ERRONOUS IMPLEMENTATION\n",
    "# USING FOR LOOP\n",
    "\n",
    "def erronous1(ll):\n",
    "    seen = {ll.head.val:1}\n",
    "    \n",
    "    for node in ll:\n",
    "        try:\n",
    "            seen[node.next_node.val] += 1\n",
    "            # the error raised is:\n",
    "            # AttributeError: 'NoneType' object has no attribute 'val'\n",
    "            # this is because nodes individually do not know what is in front of them\n",
    "            # or what is before them. Linked list enables this.\n",
    "            node.next_node = node.next_node.next_node\n",
    "        except KeyError:\n",
    "            seen[node.next_node.val] = 1\n",
    "    \n",
    "    return ll"
   ]
  },
  {
   "cell_type": "code",
   "execution_count": null,
   "metadata": {},
   "outputs": [],
   "source": [
    "# ERRONOUS IMPLEMENTATION 2\n",
    "# line current_node = current_node.next_node should be inside the else statement\n",
    "# that is because an element that is already seen is already removed inside the if statement\n",
    "# having the current_node = current_node.next_node statement outside of else causes\n",
    "# next_node pointer to be moved one more time after moving it inside the if statement\n",
    "# and potentially missing values that are repeated one after the other.\n",
    "# e.g. 1 -> 5 -> 5 -> 5 -> ... only one 5 would have been removed 1 -> 5 -> 5 -> ...\n",
    "\n",
    "def erronous2(ll):   \n",
    "    current_node = ll.head\n",
    "    seen = {current_node.val:1}\n",
    "    while current_node.next_node:\n",
    "        if current_node.next_node.val in seen:\n",
    "            current_node.next_node = current_node.next_node.next_node\n",
    "        else:\n",
    "            seen[current_node.next_node.val] = 1\n",
    "        current_node = current_node.next_node\n",
    "\n",
    "    return ll"
   ]
  },
  {
   "cell_type": "code",
   "execution_count": 3,
   "metadata": {},
   "outputs": [],
   "source": [
    "word = \"water\"\n",
    "test = \"erwat\""
   ]
  },
  {
   "cell_type": "code",
   "execution_count": 6,
   "metadata": {},
   "outputs": [
    {
     "data": {
      "text/plain": [
       "False"
      ]
     },
     "execution_count": 6,
     "metadata": {},
     "output_type": "execute_result"
    }
   ],
   "source": [
    "test in \"{0}{0}\".format(word)"
   ]
  },
  {
   "cell_type": "code",
   "execution_count": null,
   "metadata": {},
   "outputs": [],
   "source": [
    "print(f\"{word = }\")"
   ]
  }
 ],
 "metadata": {
  "kernelspec": {
   "display_name": "Python 3",
   "language": "python",
   "name": "python3"
  },
  "language_info": {
   "codemirror_mode": {
    "name": "ipython",
    "version": 3
   },
   "file_extension": ".py",
   "mimetype": "text/x-python",
   "name": "python",
   "nbconvert_exporter": "python",
   "pygments_lexer": "ipython3",
   "version": "3.7.6"
  }
 },
 "nbformat": 4,
 "nbformat_minor": 4
}
